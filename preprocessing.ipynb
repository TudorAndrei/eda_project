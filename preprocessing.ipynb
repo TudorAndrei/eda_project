{
 "cells": [
  {
   "cell_type": "code",
   "execution_count": 1,
   "metadata": {},
   "outputs": [],
   "source": [
    "import pandas as pd\n",
    "from sklearn.preprocessing import MinMaxScaler, Normalizer, StandardScaler, OneHotEncoder, PolynomialFeatures\n",
    "from sklearn.feature_selection import SelectKBest, f_classif, mutual_info_classif, f_regression, mutual_info_regression\n",
    "from sklearn.pipeline import make_pipeline\n",
    "from sklearn.model_selection import train_test_split\n",
    "from sklearn.linear_model import LogisticRegressionCV\n",
    "from sklearn.metrics import classification_report, accuracy_score\n",
    "from sklearn.feature_selection import SelectKBest, f_classif, mutual_info_classif, f_regression, mutual_info_regression\n",
    "from imblearn.combine import SMOTETomek"
   ]
  },
  {
   "cell_type": "code",
   "execution_count": 2,
   "metadata": {},
   "outputs": [],
   "source": [
    "file = r'dataset/Speed Dating Data.csv'\n",
    "data = pd.read_csv(file, encoding='utf-8')"
   ]
  },
  {
   "cell_type": "code",
   "execution_count": 3,
   "metadata": {},
   "outputs": [],
   "source": [
    "cols = pd.read_csv(\"cols.txt\")['colname'].tolist()"
   ]
  },
  {
   "cell_type": "code",
   "execution_count": 4,
   "metadata": {},
   "outputs": [],
   "source": [
    "data_df = data[cols].copy()\n",
    "data_df.dropna(axis=0,inplace=True)\n",
    "data_df.reset_index(inplace=True, drop=True)"
   ]
  },
  {
   "cell_type": "code",
   "execution_count": 5,
   "metadata": {},
   "outputs": [],
   "source": [
    "# check if there are neg values\n",
    "for i in range(len(data_df.index)):\n",
    "    for col in cols:\n",
    "        if data_df.at[i, col] < 0 and col != \"int_corr\":\n",
    "            print(i, col)"
   ]
  },
  {
   "cell_type": "code",
   "execution_count": 6,
   "metadata": {},
   "outputs": [
    {
     "output_type": "stream",
     "name": "stdout",
     "text": [
      "            Scores\ndec_o     0.166355\nattr_o    0.038799\nint_corr  0.020061\ngo_out    0.008472\nage       0.007544\ntheater   0.006520\nfield_cd  0.005797\ntvsports  0.005138\nreading   0.004373\ngoal      0.004304\ngender    0.004223\nage_o     0.004168\nmovies    0.004108\nimprelig  0.003063\nexphappy  0.002453\ndate      0.002434\nart       0.001965\nconcerts  0.001523\nyoga      0.001361\nimprace   0.000394\nhiking    0.000349\ndining    0.000293\nsports    0.000000\nmuseums   0.000000\ngaming    0.000000\nclubbing  0.000000\ntv        0.000000\nsamerace  0.000000\nmusic     0.000000\nshopping  0.000000\nexercise  0.000000\n"
     ]
    }
   ],
   "source": [
    "X = data_df.drop(['match'],1)\n",
    "y = data_df['match']  \n",
    "\n",
    "selector = SelectKBest(score_func= mutual_info_classif, k=31)\n",
    "selector.fit(X, y)\n",
    "x_scores = selector.scores_  \n",
    "mask = selector.get_support(indices=True)\n",
    "headers = X.columns\n",
    "headers_new = headers[mask]\n",
    "X_features = X[headers_new]\n",
    "X = pd.DataFrame(X_features)\n",
    "# data_df_features['Response'] = y\n",
    "data_df_features_scores = pd.DataFrame(x_scores, index=headers, columns=['Scores'])\n",
    "data_df_features_scores.sort_values(by =['Scores'], ascending=False, inplace=True)\n",
    "print(data_df_features_scores)"
   ]
  },
  {
   "cell_type": "code",
   "execution_count": 7,
   "metadata": {},
   "outputs": [
    {
     "output_type": "stream",
     "name": "stdout",
     "text": [
      "          Scores\nx4 x30  0.174658\nx4 x22  0.174112\nx4 x15  0.173246\nx3 x4   0.171898\nx4 x27  0.171704\nx4      0.171632\nx1 x4   0.170982\nx4 x23  0.170785\nx4 x7   0.170351\nx4 x9   0.169842\nx4 x8   0.168873\nx4 x13  0.168857\nx4 x11  0.167340\nx4 x14  0.166987\nx4 x29  0.166661\nx4 x28  0.166258\nx4 x16  0.166042\nx4^2    0.165444\nx4 x10  0.165264\nx4 x17  0.165175\nx4 x5   0.165130\nx4 x20  0.163282\nx4 x12  0.163251\nx4 x26  0.163193\nx4 x6   0.162808\nx4 x19  0.161090\nx4 x24  0.159805\nx4 x18  0.157842\nx4 x21  0.156566\nx4 x25  0.155772\nx0 x4   0.057161\nx2 x4   0.039660\nx5^2    0.038207\nx5 x6   0.038130\nx5      0.034761\nx3 x5   0.033526\nx5 x26  0.030493\nx1 x5   0.028528\nx5 x21  0.027648\nx5 x10  0.027188\nx5 x16  0.026932\nx5 x25  0.025549\nx5 x30  0.023212\nx5 x27  0.021377\nx5 x22  0.021290\nx5 x17  0.020180\nx1 x3   0.019239\nx0 x5   0.018715\nx6 x14  0.018383\nx5 x9   0.018260\n"
     ]
    }
   ],
   "source": [
    "X = data_df.drop(['match'],1)\n",
    "y = data_df['match']  \n",
    "\n",
    "poly = PolynomialFeatures(2)\n",
    "X = poly.fit_transform(X)\n",
    "features_names = poly.get_feature_names()\n",
    "X = pd.DataFrame(X, columns=features_names)\n",
    "\n",
    "num_features = 50\n",
    "\n",
    "selector = SelectKBest(score_func= mutual_info_classif, k=num_features)\n",
    "selector.fit(X, y)\n",
    "x_scores = selector.scores_  \n",
    "mask = selector.get_support(indices=True)\n",
    "headers = X.columns\n",
    "headers_new = headers[mask]\n",
    "X_features = X[headers_new]\n",
    "X = pd.DataFrame(X_features)\n",
    "\n",
    "data_df_features_scores = pd.DataFrame(x_scores, index=headers, columns=['Scores'])\n",
    "data_df_features_scores.sort_values(by =['Scores'], ascending=False, inplace=True)\n",
    "data_df_features_scores = data_df_features_scores[0:num_features]\n",
    "print(data_df_features_scores)"
   ]
  },
  {
   "cell_type": "code",
   "execution_count": 8,
   "metadata": {},
   "outputs": [
    {
     "output_type": "stream",
     "name": "stdout",
     "text": [
      "              Scores\nx4 x6 x14   0.183047\nx4 x7 x15   0.180101\nx4 x13 x16  0.179425\nx4 x6 x10   0.179127\nx4 x6 x9    0.178905\nx4 x7 x27   0.178748\nx4 x22 x28  0.178585\nx4 x6 x23   0.177948\nx4 x14 x27  0.177929\nx4 x8 x16   0.176646\nx4 x6 x7    0.176334\nx4 x14 x28  0.176289\nx3 x4 x11   0.176212\nx3 x4 x6    0.176180\nx4 x22 x27  0.175860\nx4 x6 x13   0.175838\nx4 x12 x15  0.175654\nx4 x16 x30  0.175627\nx4 x6 x8    0.175599\nx3 x4 x19   0.175577\nx3 x4 x7    0.175434\nx4 x6 x22   0.175381\nx4 x23^2    0.175360\nx4^2 x27    0.175329\nx4 x14 x30  0.175248\nx3 x4 x23   0.174978\nx4 x10      0.174308\nx4 x13 x22  0.174292\nx4 x6 x28   0.174229\nx3 x4 x22   0.174098\nx4 x5 x30   0.173955\nx4 x16 x22  0.173949\nx4^2 x12    0.173829\nx3 x4 x28   0.173777\nx4 x13 x19  0.173773\nx4 x6 x20   0.173739\nx4 x5 x12   0.173679\nx4 x7 x23   0.173594\nx4 x9 x22   0.173428\nx4 x7 x10   0.173330\nx4 x11 x22  0.173289\nx3 x4 x30   0.173281\nx4 x13 x15  0.173194\nx4 x10 x27  0.173016\nx4 x6 x30   0.172989\nx1 x3 x4    0.172985\nx4 x8 x30   0.172947\nx4 x22      0.172868\nx4 x27 x28  0.172787\nx4 x11 x27  0.172711\n"
     ]
    }
   ],
   "source": [
    "X = data_df.drop(['match'],1)\n",
    "y = data_df['match']  \n",
    "\n",
    "poly = PolynomialFeatures(3)\n",
    "X = poly.fit_transform(X)\n",
    "features_names = poly.get_feature_names()\n",
    "X = pd.DataFrame(X, columns=features_names)\n",
    "\n",
    "num_features = 50\n",
    "\n",
    "selector = SelectKBest(score_func= mutual_info_classif, k=num_features)\n",
    "selector.fit(X, y)\n",
    "x_scores = selector.scores_  \n",
    "mask = selector.get_support(indices=True)\n",
    "headers = X.columns\n",
    "headers_new = headers[mask]\n",
    "X_features = X[headers_new]\n",
    "X = pd.DataFrame(X_features)\n",
    "\n",
    "data_df_features_scores = pd.DataFrame(x_scores, index=headers, columns=['Scores'])\n",
    "data_df_features_scores.sort_values(by =['Scores'], ascending=False, inplace=True)\n",
    "data_df_features_scores = data_df_features_scores[0:num_features]\n",
    "print(data_df_features_scores)"
   ]
  },
  {
   "cell_type": "code",
   "execution_count": 10,
   "metadata": {},
   "outputs": [],
   "source": [
    "X_train,X_test,y_train,y_test = train_test_split(X,y, random_state=42, shuffle=True, train_size=0.7, stratify=y)"
   ]
  },
  {
   "cell_type": "code",
   "execution_count": 12,
   "metadata": {},
   "outputs": [],
   "source": [
    "scaler = MinMaxScaler()\n",
    "scaler.fit(X_train)\n",
    "X_train = scaler.transform(X_train)\n",
    "X_test = scaler.transform(X_test)"
   ]
  },
  {
   "cell_type": "code",
   "execution_count": 13,
   "metadata": {},
   "outputs": [],
   "source": [
    "X_train = pd.DataFrame(X_train)\n",
    "X_train = pd.concat([X_train, y_train], axis = 1)\n",
    "X_test = pd.DataFrame(X_test)\n",
    "X_test = pd.concat([X_test, y_test], axis = 1)\n",
    "\n",
    "X_train.to_csv(r\"./dataset/train.csv\", index=False)\n",
    "X_test.to_csv(r'./dataset/test.csv', index=False)\n"
   ]
  },
  {
   "source": [
    "# Use onehot encoding for field_cd"
   ],
   "cell_type": "markdown",
   "metadata": {}
  },
  {
   "cell_type": "code",
   "execution_count": null,
   "metadata": {},
   "outputs": [],
   "source": [
    "cat_cols = ['gender', 'match', 'samerace', 'dec_o', 'imprelig', 'goal','date']\n",
    "to_one_hot = ['field_cd']\n",
    "to_normalize = ['int_corr', 'age_o',  'attr_o', 'age', 'go_out',\n",
    "       'sports', 'tvsports', 'exercise', 'dining', 'museums', 'art', 'hiking',\n",
    "       'gaming', 'clubbing', 'reading', 'tv', 'theater', 'movies', 'concerts',\n",
    "       'music', 'shopping', 'yoga', 'exphappy']"
   ]
  },
  {
   "cell_type": "code",
   "execution_count": null,
   "metadata": {},
   "outputs": [],
   "source": [
    "df_to_normalize = data_df[to_normalize].copy()\n",
    "df_to_one_hot = data_df[to_one_hot].copy()\n",
    "df_categorical = data_df[cat_cols].copy()"
   ]
  },
  {
   "cell_type": "code",
   "execution_count": 8,
   "metadata": {},
   "outputs": [],
   "source": [
    "minmax = MinMaxScaler((0,1)).fit(df_to_normalize)\n",
    "\n",
    "df_to_normalize = minmax.transform(df_to_normalize)\n",
    "df_to_normalize = pd.DataFrame(df_to_normalize)\n",
    "df_to_normalize.columns = to_normalize\n",
    "\n",
    "\n",
    "\n",
    "one_hot = OneHotEncoder().fit(df_to_one_hot)\n",
    "\n",
    "df_to_one_hot = one_hot.transform(df_to_one_hot)\n",
    "df_to_one_hot = pd.DataFrame(df_to_one_hot.toarray())\n",
    "df_to_one_hot.columns = [ 'to_one_hot_' + str(x) for x in range(len(one_hot.categories_[0])) ]\n",
    "\n",
    "\n",
    "result1_df = pd.concat([df_to_normalize, df_to_one_hot,df_categorical],axis = 1)\n"
   ]
  },
  {
   "cell_type": "code",
   "execution_count": 9,
   "metadata": {},
   "outputs": [
    {
     "data": {
      "text/plain": [
       "Index(['int_corr', 'age_o', 'attr_o', 'age', 'go_out', 'sports', 'tvsports',\n",
       "       'exercise', 'dining', 'museums', 'art', 'hiking', 'gaming', 'clubbing',\n",
       "       'reading', 'tv', 'theater', 'movies', 'concerts', 'music', 'shopping',\n",
       "       'yoga', 'exphappy', 'to_one_hot_0', 'to_one_hot_1', 'to_one_hot_2',\n",
       "       'to_one_hot_3', 'to_one_hot_4', 'to_one_hot_5', 'to_one_hot_6',\n",
       "       'to_one_hot_7', 'to_one_hot_8', 'to_one_hot_9', 'to_one_hot_10',\n",
       "       'to_one_hot_11', 'to_one_hot_12', 'to_one_hot_13', 'to_one_hot_14',\n",
       "       'to_one_hot_15', 'to_one_hot_16', 'to_one_hot_17', 'gender', 'match',\n",
       "       'samerace', 'dec_o', 'imprelig', 'goal', 'date'],\n",
       "      dtype='object')"
      ]
     },
     "execution_count": 9,
     "metadata": {},
     "output_type": "execute_result"
    }
   ],
   "source": [
    "result1_df.columns"
   ]
  },
  {
   "cell_type": "code",
   "execution_count": 10,
   "metadata": {},
   "outputs": [],
   "source": [
    "result1_df.to_csv(\"./dataset/processed_onehot.csv\", index=False)"
   ]
  },
  {
   "cell_type": "markdown",
   "metadata": {},
   "source": [
    "# Don't use onehot encoding for field_cd"
   ]
  },
  {
   "cell_type": "code",
   "execution_count": 11,
   "metadata": {},
   "outputs": [],
   "source": [
    "cat_cols = ['gender', 'match', 'samerace', 'dec_o', 'imprelig', 'goal','date', 'field_cd']\n",
    "to_normalize = ['int_corr', 'age_o',  'attr_o', 'age', 'go_out',\n",
    "       'sports', 'tvsports', 'exercise', 'dining', 'museums', 'art', 'hiking',\n",
    "       'gaming', 'clubbing', 'reading', 'tv', 'theater', 'movies', 'concerts',\n",
    "       'music', 'shopping', 'yoga', 'exphappy']"
   ]
  },
  {
   "cell_type": "code",
   "execution_count": 12,
   "metadata": {},
   "outputs": [],
   "source": [
    "df_to_normalize = data_df[to_normalize].copy()\n",
    "df_to_one_hot = data_df[to_one_hot].copy()\n",
    "df_categorical = data_df[cat_cols].copy()"
   ]
  },
  {
   "cell_type": "code",
   "execution_count": null,
   "metadata": {},
   "outputs": [],
   "source": []
  },
  {
   "cell_type": "code",
   "execution_count": 13,
   "metadata": {},
   "outputs": [],
   "source": [
    "minmax = MinMaxScaler((0,1)).fit(df_to_normalize)\n",
    "\n",
    "df_to_normalize = minmax.transform(df_to_normalize)\n",
    "df_to_normalize = pd.DataFrame(df_to_normalize)\n",
    "df_to_normalize.columns = to_normalize\n",
    "\n",
    "\n",
    "result2_df = pd.concat([df_to_normalize, df_to_one_hot,df_categorical],axis = 1)\n"
   ]
  },
  {
   "cell_type": "code",
   "execution_count": 14,
   "metadata": {},
   "outputs": [],
   "source": [
    "result2_df.to_csv(\"./dataset/processed.csv\", index=False)"
   ]
  },
  {
   "cell_type": "code",
   "execution_count": 15,
   "metadata": {},
   "outputs": [
    {
     "data": {
      "text/plain": [
       "Index(['int_corr', 'age_o', 'attr_o', 'age', 'go_out', 'sports', 'tvsports',\n",
       "       'exercise', 'dining', 'museums', 'art', 'hiking', 'gaming', 'clubbing',\n",
       "       'reading', 'tv', 'theater', 'movies', 'concerts', 'music', 'shopping',\n",
       "       'yoga', 'exphappy', 'field_cd', 'gender', 'match', 'samerace', 'dec_o',\n",
       "       'imprelig', 'goal', 'date', 'field_cd'],\n",
       "      dtype='object')"
      ]
     },
     "execution_count": 15,
     "metadata": {},
     "output_type": "execute_result"
    }
   ],
   "source": [
    "result2_df.columns"
   ]
  },
  {
   "cell_type": "code",
   "execution_count": null,
   "metadata": {},
   "outputs": [],
   "source": []
  }
 ],
 "metadata": {
  "kernelspec": {
   "display_name": "Python 3",
   "language": "python",
   "name": "python3"
  },
  "language_info": {
   "codemirror_mode": {
    "name": "ipython",
    "version": 3
   },
   "file_extension": ".py",
   "mimetype": "text/x-python",
   "name": "python",
   "nbconvert_exporter": "python",
   "pygments_lexer": "ipython3",
   "version": "3.7.6-final"
  },
  "toc-autonumbering": false
 },
 "nbformat": 4,
 "nbformat_minor": 4
}