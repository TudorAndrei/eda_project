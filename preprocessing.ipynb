{
 "cells": [
  {
   "cell_type": "code",
   "execution_count": 17,
   "metadata": {},
   "outputs": [],
   "source": [
    "import pandas as pd\n",
    "from sklearn.preprocessing import MinMaxScaler, Normalizer, StandardScaler, OneHotEncoder\n",
    "from sklearn.pipeline import make_pipeline"
   ]
  },
  {
   "cell_type": "code",
   "execution_count": 18,
   "metadata": {},
   "outputs": [],
   "source": [
    "file = r'dataset/Speed Dating Data.csv'"
   ]
  },
  {
   "cell_type": "code",
   "execution_count": 19,
   "metadata": {},
   "outputs": [],
   "source": [
    "data = pd.read_csv(file, encoding='utf-8')\n",
    "# keep_cols = []"
   ]
  },
  {
   "cell_type": "code",
   "execution_count": 20,
   "metadata": {},
   "outputs": [],
   "source": [
    "cols = pd.read_csv(\"cols.txt\")['colname'].tolist()\n"
   ]
  },
  {
   "cell_type": "code",
   "execution_count": 95,
   "metadata": {},
   "outputs": [],
   "source": [
    "data_df = data[cols].copy()\n",
    "data_df.dropna(axis=0,inplace=True)\n",
    "data_df.reset_index(inplace=True, drop=True)\n"
   ]
  },
  {
   "cell_type": "code",
   "execution_count": 89,
   "metadata": {},
   "outputs": [],
   "source": [
    "# check if there are neg values\n",
    "for i in range(len(data_df.index)):\n",
    "    for col in cols:\n",
    "        if data_df.at[i, col] < 0 and col != \"int_corr\":\n",
    "            print(i, col)"
   ]
  },
  {
   "cell_type": "code",
   "execution_count": 96,
   "metadata": {},
   "outputs": [],
   "source": [
    "cat_cols = ['gender', 'match', 'samerace', 'dec_o', 'field_cd', 'imprelig', 'goal','date', 'go_out']\n",
    "to_one_hot = ['field_cd']\n",
    "to_normalize = ['int_corr', 'age_o',  'attr_o', 'age', 'go_out',\n",
    "       'sports', 'tvsports', 'exercise', 'dining', 'museums', 'art', 'hiking',\n",
    "       'gaming', 'clubbing', 'reading', 'tv', 'theater', 'movies', 'concerts',\n",
    "       'music', 'shopping', 'yoga', 'exphappy']"
   ]
  },
  {
   "cell_type": "code",
   "execution_count": 97,
   "metadata": {},
   "outputs": [],
   "source": [
    "df_to_normalize = data_df[to_normalize].copy()\n",
    "df_to_one_hot = data_df[to_one_hot].copy()\n",
    "df_categorical = data_df[cat_cols].copy()"
   ]
  },
  {
   "cell_type": "code",
   "execution_count": 99,
   "metadata": {},
   "outputs": [],
   "source": [
    "minmax = MinMaxScaler((0,1)).fit(df_to_normalize)\n",
    "\n",
    "df_to_normalize = minmax.transform(df_to_normalize)\n",
    "df_to_normalize = pd.DataFrame(df_to_normalize)\n",
    "df_to_normalize.columns = to_normalize\n",
    "\n",
    "\n",
    "\n",
    "one_hot = OneHotEncoder().fit(df_to_one_hot)\n",
    "\n",
    "df_to_one_hot = one_hot.transform(df_to_one_hot)\n",
    "df_to_one_hot = pd.DataFrame(df_to_one_hot.toarray())\n",
    "df_to_one_hot.columns = [ 'to_one_hot_' + str(x) for x in range(len(one_hot.categories_[0])) ]\n",
    "\n",
    "\n",
    "data_df = pd.concat([df_to_normalize, df_to_one_hot,df_categorical],axis = 1)\n"
   ]
  },
  {
   "cell_type": "code",
   "execution_count": 100,
   "metadata": {},
   "outputs": [
    {
     "name": "stdout",
     "output_type": "stream",
     "text": [
      "      int_corr     age_o    attr_o       age  go_out    sports  tvsports  \\\n",
      "0     0.557471  0.243243  0.571429  0.081081     0.0  0.888889  0.111111   \n",
      "1     0.787356  0.108108  0.666667  0.081081     0.0  0.888889  0.111111   \n",
      "2     0.568966  0.108108  0.952381  0.081081     0.0  0.888889  0.111111   \n",
      "3     0.827586  0.135135  0.666667  0.081081     0.0  0.888889  0.111111   \n",
      "4     0.597701  0.162162  0.761905  0.081081     0.0  0.888889  0.111111   \n",
      "...        ...       ...       ...       ...     ...       ...       ...   \n",
      "7929  0.844828  0.216216  0.952381  0.189189     0.0  0.777778  0.111111   \n",
      "7930  0.885057  0.162162  0.571429  0.189189     0.0  0.777778  0.111111   \n",
      "7931  0.212644  0.297297  0.190476  0.189189     0.0  0.777778  0.111111   \n",
      "7932  0.833333  0.108108  0.476190  0.189189     0.0  0.777778  0.111111   \n",
      "7933  0.482759  0.108108  0.761905  0.189189     0.0  0.777778  0.111111   \n",
      "\n",
      "      exercise    dining  museums  ...  to_one_hot_17  gender  match  \\\n",
      "0     0.777778  0.888889      0.1  ...            0.0       0      0   \n",
      "1     0.777778  0.888889      0.1  ...            0.0       0      0   \n",
      "2     0.777778  0.888889      0.1  ...            0.0       0      1   \n",
      "3     0.777778  0.888889      0.1  ...            0.0       0      1   \n",
      "4     0.777778  0.888889      0.1  ...            0.0       0      1   \n",
      "...        ...       ...      ...  ...            ...     ...    ...   \n",
      "7929  0.444444  1.000000      1.0  ...            1.0       1      0   \n",
      "7930  0.444444  1.000000      1.0  ...            1.0       1      0   \n",
      "7931  0.444444  1.000000      1.0  ...            1.0       1      0   \n",
      "7932  0.444444  1.000000      1.0  ...            1.0       1      0   \n",
      "7933  0.444444  1.000000      1.0  ...            1.0       1      0   \n",
      "\n",
      "      samerace  dec_o  field_cd  imprelig  goal  date  go_out  \n",
      "0            0      0       1.0       4.0   2.0   7.0     1.0  \n",
      "1            0      0       1.0       4.0   2.0   7.0     1.0  \n",
      "2            1      1       1.0       4.0   2.0   7.0     1.0  \n",
      "3            0      1       1.0       4.0   2.0   7.0     1.0  \n",
      "4            0      1       1.0       4.0   2.0   7.0     1.0  \n",
      "...        ...    ...       ...       ...   ...   ...     ...  \n",
      "7929         0      1      18.0       1.0   1.0   2.0     1.0  \n",
      "7930         0      0      18.0       1.0   1.0   2.0     1.0  \n",
      "7931         0      0      18.0       1.0   1.0   2.0     1.0  \n",
      "7932         0      1      18.0       1.0   1.0   2.0     1.0  \n",
      "7933         0      1      18.0       1.0   1.0   2.0     1.0  \n",
      "\n",
      "[7934 rows x 50 columns]\n"
     ]
    }
   ],
   "source": [
    "print(data_df)"
   ]
  },
  {
   "cell_type": "code",
   "execution_count": null,
   "metadata": {},
   "outputs": [],
   "source": []
  },
  {
   "cell_type": "code",
   "execution_count": 19,
   "metadata": {},
   "outputs": [
    {
     "data": {
      "text/plain": [
       "array([[ 3.15984455e-03,  6.09398592e-01,  1.35421909e-01, ...,\n",
       "         1.80562546e-01,  2.25703182e-02,  6.77109546e-02],\n",
       "       [ 1.29780263e-02,  5.28734404e-01,  1.68233674e-01, ...,\n",
       "         1.92267056e-01,  2.40333820e-02,  7.21001459e-02],\n",
       "       [ 3.79020773e-03,  5.21153563e-01,  2.36887983e-01, ...,\n",
       "         1.89510387e-01,  2.36887983e-02,  7.10663950e-02],\n",
       "       ...,\n",
       "       [-9.09828278e-03,  5.73587393e-01,  3.95577512e-02, ...,\n",
       "         1.38452129e-01,  5.93366269e-02,  1.97788756e-01],\n",
       "       [ 1.31576281e-02,  4.66883577e-01,  1.06109904e-01, ...,\n",
       "         1.48553865e-01,  6.36659423e-02,  2.12219808e-01],\n",
       "       [ 2.10398130e-04,  4.62875885e-01,  1.68318504e-01, ...,\n",
       "         1.47278691e-01,  6.31194389e-02,  2.10398130e-01]])"
      ]
     },
     "execution_count": 19,
     "metadata": {},
     "output_type": "execute_result"
    }
   ],
   "source": []
  },
  {
   "cell_type": "code",
   "execution_count": null,
   "metadata": {},
   "outputs": [],
   "source": []
  }
 ],
 "metadata": {
  "kernelspec": {
   "display_name": "Python 3",
   "language": "python",
   "name": "python3"
  },
  "language_info": {
   "codemirror_mode": {
    "name": "ipython",
    "version": 3
   },
   "file_extension": ".py",
   "mimetype": "text/x-python",
   "name": "python",
   "nbconvert_exporter": "python",
   "pygments_lexer": "ipython3",
   "version": "3.7.9"
  },
  "toc-autonumbering": false
 },
 "nbformat": 4,
 "nbformat_minor": 4
}
