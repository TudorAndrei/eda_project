{
 "cells": [
  {
   "cell_type": "code",
   "execution_count": 20,
   "metadata": {},
   "outputs": [],
   "source": [
    "import pandas as pd\n",
    "from sklearn.preprocessing import MinMaxScaler, Normalizer, StandardScaler, OneHotEncoder\n",
    "from sklearn.pipeline import make_pipeline"
   ]
  },
  {
   "cell_type": "code",
   "execution_count": 2,
   "metadata": {},
   "outputs": [],
   "source": [
    "file = r'dataset/Speed Dating Data.csv'"
   ]
  },
  {
   "cell_type": "code",
   "execution_count": 3,
   "metadata": {},
   "outputs": [],
   "source": [
    "data = pd.read_csv(file, encoding='utf-8')\n",
    "# keep_cols = []"
   ]
  },
  {
   "cell_type": "code",
   "execution_count": 4,
   "metadata": {},
   "outputs": [],
   "source": [
    "cols = pd.read_csv(\"cols.txt\")['colname'].tolist()\n"
   ]
  },
  {
   "cell_type": "code",
   "execution_count": 5,
   "metadata": {},
   "outputs": [],
   "source": [
    "data_df = data[cols]\n",
    "data_df.dropna(axis=0,inplace=True)\n",
    "data_df.reset_index(inplace=True, drop=True)\n"
   ]
  },
  {
   "cell_type": "code",
   "execution_count": 6,
   "metadata": {},
   "outputs": [],
   "source": [
    "# check if there are neg values\n",
    "for i in range(len(data_df.index)):\n",
    "    for col in cols:\n",
    "        if data_df.at[i, col] < 0 and col != \"int_corr\":\n",
    "            print(i, col)"
   ]
  },
  {
   "cell_type": "code",
   "execution_count": 13,
   "metadata": {},
   "outputs": [],
   "source": [
    "cat_cols = ['gender', 'match', 'samerace', 'dec_o', 'field_cd', 'imprelig', 'goal','date', 'go_out']\n",
    "to_one_hot = ['field_cd']\n",
    "to_normalize = ['int_corr', 'age_o',  'attr_o', 'age', 'go_out',\n",
    "       'sports', 'tvsports', 'exercise', 'dining', 'museums', 'art', 'hiking',\n",
    "       'gaming', 'clubbing', 'reading', 'tv', 'theater', 'movies', 'concerts',\n",
    "       'music', 'shopping', 'yoga', 'exphappy']"
   ]
  },
  {
   "cell_type": "code",
   "execution_count": 14,
   "metadata": {},
   "outputs": [],
   "source": [
    "df_to_normalize = data_df[to_normalize]\n",
    "df_to_one_hot = data_df[to_one_hot]\n",
    "df_categorical = data_df[cat_cols]"
   ]
  },
  {
   "cell_type": "code",
   "execution_count": 18,
   "metadata": {},
   "outputs": [],
   "source": [
    "norm  = Normalizer().fit(df_to_normalize)\n",
    "# df_to_normalize = df_to_normalize.apply(lambda x: norm.transform(x.reshape(-1,1)))\n",
    "df_to_normalize = norm.transform(df_to_normalize)\n",
    "\n"
   ]
  },
  {
   "cell_type": "code",
   "execution_count": null,
   "metadata": {},
   "outputs": [],
   "source": [
    "preprocessing = make_pipeline(MinMaxScaler(), Normalizer())\n",
    "\n"
   ]
  },
  {
   "cell_type": "code",
   "execution_count": 19,
   "metadata": {},
   "outputs": [
    {
     "output_type": "execute_result",
     "data": {
      "text/plain": [
       "array([[ 3.15984455e-03,  6.09398592e-01,  1.35421909e-01, ...,\n",
       "         1.80562546e-01,  2.25703182e-02,  6.77109546e-02],\n",
       "       [ 1.29780263e-02,  5.28734404e-01,  1.68233674e-01, ...,\n",
       "         1.92267056e-01,  2.40333820e-02,  7.21001459e-02],\n",
       "       [ 3.79020773e-03,  5.21153563e-01,  2.36887983e-01, ...,\n",
       "         1.89510387e-01,  2.36887983e-02,  7.10663950e-02],\n",
       "       ...,\n",
       "       [-9.09828278e-03,  5.73587393e-01,  3.95577512e-02, ...,\n",
       "         1.38452129e-01,  5.93366269e-02,  1.97788756e-01],\n",
       "       [ 1.31576281e-02,  4.66883577e-01,  1.06109904e-01, ...,\n",
       "         1.48553865e-01,  6.36659423e-02,  2.12219808e-01],\n",
       "       [ 2.10398130e-04,  4.62875885e-01,  1.68318504e-01, ...,\n",
       "         1.47278691e-01,  6.31194389e-02,  2.10398130e-01]])"
      ]
     },
     "metadata": {},
     "execution_count": 19
    }
   ],
   "source": [
    "df_to_normalize"
   ]
  },
  {
   "cell_type": "code",
   "execution_count": null,
   "metadata": {},
   "outputs": [],
   "source": []
  }
 ],
 "metadata": {
  "kernelspec": {
   "display_name": "Python 3",
   "language": "python",
   "name": "python3"
  },
  "language_info": {
   "codemirror_mode": {
    "name": "ipython",
    "version": 3
   },
   "file_extension": ".py",
   "mimetype": "text/x-python",
   "name": "python",
   "nbconvert_exporter": "python",
   "pygments_lexer": "ipython3",
   "version": "3.8.5-final"
  },
  "toc-autonumbering": false
 },
 "nbformat": 4,
 "nbformat_minor": 4
}