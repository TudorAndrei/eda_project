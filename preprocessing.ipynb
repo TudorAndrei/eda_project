{
 "cells": [
  {
   "cell_type": "code",
   "execution_count": 1,
   "metadata": {},
   "outputs": [],
   "source": [
    "import pandas as pd\n",
    "from sklearn.preprocessing import MinMaxScaler, Normalizer, StandardScaler, OneHotEncoder, PolynomialFeatures\n",
    "from sklearn.feature_selection import SelectKBest, f_classif, mutual_info_classif, f_regression, mutual_info_regression\n",
    "from sklearn.pipeline import make_pipeline\n",
    "from sklearn.model_selection import train_test_split\n",
    "from sklearn.linear_model import LogisticRegressionCV\n",
    "from sklearn.metrics import classification_report, accuracy_score\n",
    "from imblearn.combine import SMOTETomek"
   ]
  },
  {
   "cell_type": "code",
   "execution_count": 2,
   "metadata": {},
   "outputs": [],
   "source": [
    "file = r'dataset/Speed Dating Data.csv'\n",
    "data = pd.read_csv(file, encoding='utf-8')"
   ]
  },
  {
   "cell_type": "code",
   "execution_count": 3,
   "metadata": {},
   "outputs": [],
   "source": [
    "cols = pd.read_csv(\"cols.txt\")['colname'].tolist()"
   ]
  },
  {
   "cell_type": "code",
   "execution_count": 4,
   "metadata": {},
   "outputs": [],
   "source": [
    "data_df = data[cols].copy()\n",
    "data_df.dropna(axis=0,inplace=True)\n",
    "data_df.reset_index(inplace=True, drop=True)"
   ]
  },
  {
   "cell_type": "code",
   "execution_count": 5,
   "metadata": {},
   "outputs": [],
   "source": [
    "# check if there are neg values\n",
    "for i in range(len(data_df.index)):\n",
    "    for col in cols:\n",
    "        if data_df.at[i, col] < 0 and col != \"int_corr\":\n",
    "            print(i, col)"
   ]
  },
  {
   "source": [
    "# Polynomial Features, Feature Selection, MinMaxScaler"
   ],
   "cell_type": "markdown",
   "metadata": {}
  },
  {
   "cell_type": "code",
   "execution_count": 6,
   "metadata": {},
   "outputs": [
    {
     "output_type": "stream",
     "name": "stdout",
     "text": [
      "            Scores\ndec_o     0.172112\nattr_o    0.039947\nmuseums   0.010490\nint_corr  0.010477\ntv        0.010020\nage_o     0.007520\nart       0.006731\nclubbing  0.006169\ngaming    0.006153\nshopping  0.005208\n"
     ]
    }
   ],
   "source": [
    "X = data_df.drop(['match'],1)\n",
    "y = data_df['match']  \n",
    "\n",
    "selector = SelectKBest(score_func= mutual_info_classif, k=31)\n",
    "selector.fit(X, y)\n",
    "x_scores = selector.scores_  \n",
    "mask = selector.get_support(indices=True)\n",
    "headers = X.columns\n",
    "headers_new = headers[mask]\n",
    "X_features = X[headers_new]\n",
    "X = pd.DataFrame(X_features)\n",
    "# data_df_features['Response'] = y\n",
    "data_df_features_scores = pd.DataFrame(x_scores, index=headers, columns=['Scores'])\n",
    "data_df_features_scores.sort_values(by =['Scores'], ascending=False, inplace=True)\n",
    "print(data_df_features_scores.head(10))\n",
    "data_df_features_scores[0:10].to_csv(r'./images/features_original.txt', index=True)"
   ]
  },
  {
   "cell_type": "code",
   "execution_count": 45,
   "metadata": {},
   "outputs": [],
   "source": [
    "X_train,X_test,y_train,y_test = train_test_split(X,y, random_state=42, shuffle=True, train_size=0.7, stratify=y)"
   ]
  },
  {
   "cell_type": "code",
   "execution_count": 46,
   "metadata": {},
   "outputs": [],
   "source": [
    "scaler = MinMaxScaler()\n",
    "scaler.fit(X_train)\n",
    "X_train = scaler.transform(X_train)\n",
    "X_test = scaler.transform(X_test)"
   ]
  },
  {
   "cell_type": "code",
   "execution_count": 47,
   "metadata": {},
   "outputs": [],
   "source": [
    "X_train = pd.DataFrame(X_train)\n",
    "y_train.reset_index(inplace=True, drop=True)\n",
    "X_train = pd.concat([X_train, y_train], axis = 1)\n",
    "X_test = pd.DataFrame(X_test)\n",
    "y_test.reset_index(inplace=True, drop=True)\n",
    "X_test = pd.concat([X_test, y_test], axis = 1)"
   ]
  },
  {
   "cell_type": "code",
   "execution_count": 48,
   "metadata": {},
   "outputs": [],
   "source": [
    "X_train.to_csv(r\"./dataset/train.csv\", index=False)\n",
    "X_test.to_csv(r'./dataset/test.csv', index=False)"
   ]
  },
  {
   "cell_type": "code",
   "execution_count": 49,
   "metadata": {},
   "outputs": [],
   "source": [
    "X_train.drop('match', axis=1, inplace=True)\n",
    "X_test.drop('match', axis=1, inplace=True)"
   ]
  },
  {
   "cell_type": "code",
   "execution_count": 50,
   "metadata": {},
   "outputs": [],
   "source": [
    "from imblearn.combine import SMOTETomek\n",
    "smt = SMOTETomek(random_state=42, n_jobs=-1)\n",
    "X_smt, y_smt = smt.fit_resample(X_train, y_train)"
   ]
  },
  {
   "cell_type": "code",
   "execution_count": 51,
   "metadata": {},
   "outputs": [],
   "source": [
    "X_smt = pd.DataFrame(X_smt)\n",
    "y_smt = pd.DataFrame(y_smt)"
   ]
  },
  {
   "cell_type": "code",
   "execution_count": 52,
   "metadata": {},
   "outputs": [
    {
     "output_type": "stream",
     "name": "stdout",
     "text": [
      "(8958, 50)\n"
     ]
    }
   ],
   "source": [
    "print(X_smt.shape)"
   ]
  },
  {
   "cell_type": "code",
   "execution_count": 53,
   "metadata": {},
   "outputs": [],
   "source": [
    "X_smt = pd.concat([X_smt, y_smt], axis =1)\n",
    "X_test = pd.concat([X_test, y_test], axis=1)\n",
    "X_smt.to_csv(r\"./dataset/train_smote.csv\", index=False)\n",
    "X_test.to_csv(r'./dataset/test_smote.csv', index=False)"
   ]
  },
  {
   "cell_type": "code",
   "execution_count": 15,
   "metadata": {},
   "outputs": [
    {
     "output_type": "stream",
     "name": "stdout",
     "text": [
      "              Scores\nx4 x10 x23  0.183705\nx4 x6 x9    0.182400\nx4 x9 x28   0.180663\nx4 x6 x23   0.180184\nx4 x10 x22  0.178416\nx4 x7 x15   0.177983\nx4 x6 x15   0.176835\nx4 x15 x30  0.176628\nx4 x14 x27  0.176602\nx4 x6 x13   0.176453\nx3 x4 x6    0.176445\nx3^2 x4     0.176400\nx4 x7 x23   0.176280\nx4 x6 x27   0.176207\nx4 x13 x28  0.175953\nx3 x4 x23   0.175907\nx3 x4 x16   0.175665\nx4 x23 x30  0.175616\nx4 x9 x16   0.175380\nx4 x15 x27  0.175159\nx4 x7 x8    0.175127\nx4 x11 x30  0.175065\nx4 x22 x27  0.174979\nx3 x4^2     0.174955\nx4 x12 x27  0.174951\nx4 x6 x11   0.174843\nx4 x6 x12   0.174813\nx4 x9 x22   0.174796\nx4 x6 x14   0.174635\nx4 x5 x28   0.174603\nx4 x8 x30   0.174463\nx3 x4 x11   0.174255\nx4 x10 x27  0.174185\nx4 x13 x16  0.174126\nx4 x6^2     0.173934\nx4 x15 x28  0.173896\nx4 x7 x11   0.173825\nx3 x4 x22   0.173813\nx4 x22 x30  0.173734\nx4 x7^2     0.173703\nx4 x6 x7    0.173612\nx4 x16 x22  0.173598\nx4 x13 x20  0.173586\nx3 x4 x8    0.173506\nx4 x27 x30  0.173500\nx4 x7 x18   0.173443\nx4 x5 x10   0.173436\nx4 x10 x30  0.173435\nx4 x11 x27  0.173402\nx4 x22      0.173293\n"
     ]
    }
   ],
   "source": [
    "X = data_df.drop(['match'],1)\n",
    "y = data_df['match']  \n",
    "\n",
    "poly = PolynomialFeatures(3)\n",
    "X = poly.fit_transform(X)\n",
    "features_names = poly.get_feature_names()\n",
    "X = pd.DataFrame(X, columns=features_names)\n",
    "\n",
    "num_features = 50\n",
    "\n",
    "selector = SelectKBest(score_func= mutual_info_classif, k=num_features)\n",
    "selector.fit(X, y)\n",
    "x_scores = selector.scores_  \n",
    "mask = selector.get_support(indices=True)\n",
    "headers = X.columns\n",
    "headers_new = headers[mask]\n",
    "X_features = X[headers_new]\n",
    "X = pd.DataFrame(X_features)\n",
    "\n",
    "data_df_features_scores = pd.DataFrame(x_scores, index=headers, columns=['Scores'])\n",
    "data_df_features_scores.sort_values(by =['Scores'], ascending=False, inplace=True)\n",
    "data_df_features_scores = data_df_features_scores[0:num_features]\n",
    "print(data_df_features_scores)\n",
    "data_df_features_scores[0:10].to_csv(r'./images/features_poly.txt', index=True)"
   ]
  },
  {
   "cell_type": "code",
   "execution_count": 16,
   "metadata": {},
   "outputs": [],
   "source": [
    "X_train,X_test,y_train,y_test = train_test_split(X,y, random_state=42, shuffle=True, train_size=0.7, stratify=y)"
   ]
  },
  {
   "cell_type": "code",
   "execution_count": 17,
   "metadata": {},
   "outputs": [],
   "source": [
    "scaler = MinMaxScaler()\n",
    "scaler.fit(X_train)\n",
    "X_train = scaler.transform(X_train)\n",
    "X_test = scaler.transform(X_test)"
   ]
  },
  {
   "cell_type": "code",
   "execution_count": 18,
   "metadata": {},
   "outputs": [],
   "source": [
    "X_train = pd.DataFrame(X_train)\n",
    "y_train.reset_index(inplace=True, drop=True)\n",
    "X_train = pd.concat([X_train, y_train], axis = 1)\n",
    "X_test = pd.DataFrame(X_test)\n",
    "y_test.reset_index(inplace=True, drop=True)\n",
    "X_test = pd.concat([X_test, y_test], axis = 1)"
   ]
  },
  {
   "cell_type": "code",
   "execution_count": 19,
   "metadata": {},
   "outputs": [],
   "source": [
    "X_train.to_csv(r\"./dataset/train_poly.csv\", index=False)\n",
    "X_test.to_csv(r'./dataset/test_poly.csv', index=False)"
   ]
  },
  {
   "source": [
    "# Use onehot encoding for field_cd"
   ],
   "cell_type": "markdown",
   "metadata": {}
  },
  {
   "cell_type": "code",
   "execution_count": null,
   "metadata": {},
   "outputs": [],
   "source": [
    "cat_cols = ['gender', 'match', 'samerace', 'dec_o', 'imprelig', 'goal','date']\n",
    "to_one_hot = ['field_cd']\n",
    "to_normalize = ['int_corr', 'age_o',  'attr_o', 'age', 'go_out',\n",
    "       'sports', 'tvsports', 'exercise', 'dining', 'museums', 'art', 'hiking',\n",
    "       'gaming', 'clubbing', 'reading', 'tv', 'theater', 'movies', 'concerts',\n",
    "       'music', 'shopping', 'yoga', 'exphappy']"
   ]
  },
  {
   "cell_type": "code",
   "execution_count": null,
   "metadata": {},
   "outputs": [],
   "source": [
    "df_to_normalize = data_df[to_normalize].copy()\n",
    "df_to_one_hot = data_df[to_one_hot].copy()\n",
    "df_categorical = data_df[cat_cols].copy()"
   ]
  },
  {
   "cell_type": "code",
   "execution_count": 8,
   "metadata": {},
   "outputs": [],
   "source": [
    "minmax = MinMaxScaler((0,1)).fit(df_to_normalize)\n",
    "\n",
    "df_to_normalize = minmax.transform(df_to_normalize)\n",
    "df_to_normalize = pd.DataFrame(df_to_normalize)\n",
    "df_to_normalize.columns = to_normalize\n",
    "\n",
    "\n",
    "\n",
    "one_hot = OneHotEncoder().fit(df_to_one_hot)\n",
    "\n",
    "df_to_one_hot = one_hot.transform(df_to_one_hot)\n",
    "df_to_one_hot = pd.DataFrame(df_to_one_hot.toarray())\n",
    "df_to_one_hot.columns = [ 'to_one_hot_' + str(x) for x in range(len(one_hot.categories_[0])) ]\n",
    "\n",
    "\n",
    "result1_df = pd.concat([df_to_normalize, df_to_one_hot,df_categorical],axis = 1)\n"
   ]
  },
  {
   "cell_type": "code",
   "execution_count": 9,
   "metadata": {},
   "outputs": [
    {
     "data": {
      "text/plain": [
       "Index(['int_corr', 'age_o', 'attr_o', 'age', 'go_out', 'sports', 'tvsports',\n",
       "       'exercise', 'dining', 'museums', 'art', 'hiking', 'gaming', 'clubbing',\n",
       "       'reading', 'tv', 'theater', 'movies', 'concerts', 'music', 'shopping',\n",
       "       'yoga', 'exphappy', 'to_one_hot_0', 'to_one_hot_1', 'to_one_hot_2',\n",
       "       'to_one_hot_3', 'to_one_hot_4', 'to_one_hot_5', 'to_one_hot_6',\n",
       "       'to_one_hot_7', 'to_one_hot_8', 'to_one_hot_9', 'to_one_hot_10',\n",
       "       'to_one_hot_11', 'to_one_hot_12', 'to_one_hot_13', 'to_one_hot_14',\n",
       "       'to_one_hot_15', 'to_one_hot_16', 'to_one_hot_17', 'gender', 'match',\n",
       "       'samerace', 'dec_o', 'imprelig', 'goal', 'date'],\n",
       "      dtype='object')"
      ]
     },
     "execution_count": 9,
     "metadata": {},
     "output_type": "execute_result"
    }
   ],
   "source": [
    "result1_df.columns"
   ]
  },
  {
   "cell_type": "code",
   "execution_count": 10,
   "metadata": {},
   "outputs": [],
   "source": [
    "result1_df.to_csv(\"./dataset/processed_onehot.csv\", index=False)"
   ]
  }
 ],
 "metadata": {
  "kernelspec": {
   "display_name": "Python 3",
   "language": "python",
   "name": "python3"
  },
  "language_info": {
   "codemirror_mode": {
    "name": "ipython",
    "version": 3
   },
   "file_extension": ".py",
   "mimetype": "text/x-python",
   "name": "python",
   "nbconvert_exporter": "python",
   "pygments_lexer": "ipython3",
   "version": "3.7.6-final"
  },
  "toc-autonumbering": false
 },
 "nbformat": 4,
 "nbformat_minor": 4
}