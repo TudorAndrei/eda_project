{
 "metadata": {
  "language_info": {
   "codemirror_mode": {
    "name": "ipython",
    "version": 3
   },
   "file_extension": ".py",
   "mimetype": "text/x-python",
   "name": "python",
   "nbconvert_exporter": "python",
   "pygments_lexer": "ipython3",
   "version": "3.7.6-final"
  },
  "orig_nbformat": 2,
  "kernelspec": {
   "name": "python3",
   "display_name": "Python 3",
   "language": "python"
  }
 },
 "nbformat": 4,
 "nbformat_minor": 2,
 "cells": [
  {
   "cell_type": "code",
   "execution_count": 36,
   "metadata": {},
   "outputs": [],
   "source": [
    "import pandas as pd\n",
    "import numpy as np\n",
    "from sklearn.linear_model import LogisticRegressionCV\n",
    "from sklearn.metrics import classification_report, accuracy_score\n",
    "from imblearn.combine import SMOTETomek\n",
    "from sklearn.svm import SVC"
   ]
  },
  {
   "cell_type": "code",
   "execution_count": 31,
   "metadata": {},
   "outputs": [],
   "source": [
    "X_train_base = pd.read_csv(r'../dataset/train.csv')\n",
    "X_test_base = pd.read_csv(r'../dataset/test.csv')\n",
    "\n",
    "y_train_base = X_train_base.match\n",
    "X_train_base.drop('match', axis=1, inplace=True)\n",
    "\n",
    "y_test_base = X_test_base.match\n",
    "X_test_base.drop('match', axis=1, inplace=True)\n",
    "\n",
    "\n",
    "X_train_smote = pd.read_csv(r'../dataset/train_smote.csv')\n",
    "X_test_smote = pd.read_csv(r'../dataset/test_smote.csv')\n",
    "\n",
    "y_train_smote = X_train_smote.match\n",
    "X_train_smote.drop('match', axis=1, inplace=True)\n",
    "\n",
    "y_test_smote = X_test_smote.match\n",
    "X_test_smote.drop('match', axis=1, inplace=True)\n",
    "\n",
    "X_train_poly = pd.read_csv(r'../dataset/train_poly.csv')\n",
    "X_test_poly = pd.read_csv(r'../dataset/test_poly.csv')\n",
    "\n",
    "y_train_poly = X_train_poly.match\n",
    "X_train_poly.drop('match', axis=1, inplace=True)\n",
    "\n",
    "y_test_poly = X_test_poly.match\n",
    "X_test_poly.drop('match', axis=1, inplace=True)"
   ]
  },
  {
   "cell_type": "code",
   "execution_count": 32,
   "metadata": {},
   "outputs": [
    {
     "output_type": "stream",
     "name": "stdout",
     "text": [
      "(2381,)\n(2381, 50)\n"
     ]
    }
   ],
   "source": [
    "print(y_test_smote.shape)\n",
    "print(X_test_smote.shape)"
   ]
  },
  {
   "cell_type": "code",
   "execution_count": 37,
   "metadata": {},
   "outputs": [
    {
     "output_type": "stream",
     "name": "stdout",
     "text": [
      "[LibSVM]\n",
      "\n",
      "Classification Report on the TRAIN SET\n",
      "\n",
      "\n",
      "              precision    recall  f1-score   support\n",
      "\n",
      "           0       0.92      0.96      0.94      4617\n",
      "           1       0.76      0.61      0.68       936\n",
      "\n",
      "    accuracy                           0.90      5553\n",
      "   macro avg       0.84      0.79      0.81      5553\n",
      "weighted avg       0.90      0.90      0.90      5553\n",
      "\n",
      "\n",
      "\n",
      "Model's accuracy on train: 0.9016747703943814\n",
      "\n",
      "\n",
      "Classification Report on the TEST SET\n",
      "\n",
      "\n",
      "              precision    recall  f1-score   support\n",
      "\n",
      "           0       0.89      0.92      0.90      1979\n",
      "           1       0.52      0.43      0.47       402\n",
      "\n",
      "    accuracy                           0.84      2381\n",
      "   macro avg       0.71      0.68      0.69      2381\n",
      "weighted avg       0.83      0.84      0.83      2381\n",
      "\n",
      "\n",
      "\n",
      "Model's accuracy on test: 0.8374632507349853\n"
     ]
    }
   ],
   "source": [
    "lr = LogisticRegressionCV(\n",
    "    solver='lbfgs',\n",
    "    penalty ='l2', \n",
    "    max_iter=500,\n",
    "    # multi_class='multinomial',\n",
    "    # verbose=1,\n",
    "    n_jobs=-1,\n",
    "    random_state=42,\n",
    "    class_weight='balanced',\n",
    "    cv = 10,\n",
    "    scoring='accuracy'\n",
    "    )\n",
    "\n",
    "lr = SVC(\n",
    "    kernel='poly',\n",
    "    degree=4,\n",
    "    verbose=True,\n",
    "    random_state=42\n",
    ")\n",
    "lr.fit(X_train_base, y_train_base)\n",
    "lr_pred = lr.predict(X_test_base)\n",
    "lr_pred_train = lr.predict(X_train_base)\n",
    "\n",
    "print(\"\\n\\nClassification Report on the TRAIN SET\\n\\n\")\n",
    "print(classification_report(y_train_base, lr_pred_train))\n",
    "print(\"\\n\\nModel's accuracy on train: {}\".format(accuracy_score(y_train_base, lr_pred_train)))\n",
    "\n",
    "print(\"\\n\\nClassification Report on the TEST SET\\n\\n\")\n",
    "print(classification_report(y_test_base, lr_pred))\n",
    "print(\"\\n\\nModel's accuracy on test: {}\".format(accuracy_score(y_test_base, lr_pred)))"
   ]
  },
  {
   "cell_type": "code",
   "execution_count": 34,
   "metadata": {},
   "outputs": [
    {
     "output_type": "stream",
     "name": "stdout",
     "text": [
      "\n\nClassification Report on the TRAIN SET\n\n\n              precision    recall  f1-score   support\n\n           0       0.97      0.75      0.85      4479\n           1       0.80      0.98      0.88      4479\n\n    accuracy                           0.87      8958\n   macro avg       0.89      0.87      0.86      8958\nweighted avg       0.89      0.87      0.86      8958\n\n\n\nModel's accuracy on train: 0.8660415271265908\n\n\nClassification Report on the TEST SET\n\n\n              precision    recall  f1-score   support\n\n           0       0.98      0.71      0.82      1979\n           1       0.40      0.94      0.56       402\n\n    accuracy                           0.75      2381\n   macro avg       0.69      0.82      0.69      2381\nweighted avg       0.88      0.75      0.78      2381\n\n\n\nModel's accuracy on test: 0.74842503149937\n"
     ]
    }
   ],
   "source": [
    "lr = LogisticRegressionCV(\n",
    "    solver='lbfgs',\n",
    "    penalty ='l2', \n",
    "    max_iter=500,\n",
    "    n_jobs=-1,\n",
    "    random_state=42,\n",
    "    class_weight='balanced',\n",
    "    cv = 10,\n",
    "    scoring='accuracy'\n",
    "    )\n",
    "lr.fit(X_train_smote, y_train_smote)\n",
    "lr_pred = lr.predict(X_test_smote)\n",
    "lr_pred_train = lr.predict(X_train_smote)\n",
    "\n",
    "print(\"\\n\\nClassification Report on the TRAIN SET\\n\\n\")\n",
    "print(classification_report(y_train_smote, lr_pred_train))\n",
    "print(\"\\n\\nModel's accuracy on train: {}\".format(accuracy_score(y_train_smote, lr_pred_train)))\n",
    "\n",
    "print(\"\\n\\nClassification Report on the TEST SET\\n\\n\")\n",
    "print(classification_report(y_test_smote, lr_pred))\n",
    "print(\"\\n\\nModel's accuracy on test: {}\".format(accuracy_score(y_test_smote, lr_pred)))"
   ]
  },
  {
   "cell_type": "code",
   "execution_count": 35,
   "metadata": {},
   "outputs": [
    {
     "output_type": "stream",
     "name": "stdout",
     "text": [
      "\n\nClassification Report on the TRAIN SET\n\n\n              precision    recall  f1-score   support\n\n           0       1.00      0.72      0.83      4617\n           1       0.41      0.98      0.58       936\n\n    accuracy                           0.76      5553\n   macro avg       0.71      0.85      0.71      5553\nweighted avg       0.90      0.76      0.79      5553\n\n\n\nModel's accuracy on train: 0.763551233567441\n\n\nClassification Report on the TEST SET\n\n\n              precision    recall  f1-score   support\n\n           0       0.99      0.70      0.82      1979\n           1       0.39      0.97      0.56       402\n\n    accuracy                           0.74      2381\n   macro avg       0.69      0.83      0.69      2381\nweighted avg       0.89      0.74      0.77      2381\n\n\n\nModel's accuracy on test: 0.7425451490970181\n"
     ]
    }
   ],
   "source": [
    "lr = LogisticRegressionCV(\n",
    "    solver='lbfgs',\n",
    "    penalty ='l2', \n",
    "    max_iter=500,\n",
    "    # multi_class='multinomial',\n",
    "    # verbose=1,\n",
    "    n_jobs=-1,\n",
    "    random_state=42,\n",
    "    class_weight='balanced',\n",
    "    cv = 10,\n",
    "    scoring='accuracy'\n",
    "    )\n",
    "lr.fit(X_train_poly, y_train_poly)\n",
    "lr_pred = lr.predict(X_test_poly)\n",
    "lr_pred_train = lr.predict(X_train_poly)\n",
    "\n",
    "print(\"\\n\\nClassification Report on the TRAIN SET\\n\\n\")\n",
    "print(classification_report(y_train_poly, lr_pred_train))\n",
    "print(\"\\n\\nModel's accuracy on train: {}\".format(accuracy_score(y_train_poly, lr_pred_train)))\n",
    "\n",
    "print(\"\\n\\nClassification Report on the TEST SET\\n\\n\")\n",
    "print(classification_report(y_test_poly, lr_pred))\n",
    "print(\"\\n\\nModel's accuracy on test: {}\".format(accuracy_score(y_test_poly, lr_pred)))"
   ]
  },
  {
   "cell_type": "code",
   "execution_count": null,
   "metadata": {},
   "outputs": [],
   "source": []
  }
 ]
}