{
 "metadata": {
  "language_info": {
   "codemirror_mode": {
    "name": "ipython",
    "version": 3
   },
   "file_extension": ".py",
   "mimetype": "text/x-python",
   "name": "python",
   "nbconvert_exporter": "python",
   "pygments_lexer": "ipython3",
   "version": "3.7.6-final"
  },
  "orig_nbformat": 2,
  "kernelspec": {
   "name": "python3",
   "display_name": "Python 3",
   "language": "python"
  }
 },
 "nbformat": 4,
 "nbformat_minor": 2,
 "cells": [
  {
   "cell_type": "code",
   "execution_count": 1,
   "metadata": {},
   "outputs": [],
   "source": [
    "import pandas as pd\n",
    "import numpy as np\n",
    "from sklearn.linear_model import LogisticRegressionCV\n",
    "from sklearn.metrics import classification_report, accuracy_score\n",
    "from imblearn.combine import SMOTETomek"
   ]
  },
  {
   "cell_type": "code",
   "execution_count": 18,
   "metadata": {},
   "outputs": [],
   "source": [
    "X_train_base = pd.read_csv(r'../dataset/train.csv')\n",
    "X_test_base = pd.read_csv(r'../dataset/test.csv')\n",
    "\n",
    "y_train_base = X_train_base.match\n",
    "X_train_base.drop('match', axis=1, inplace=True)\n",
    "\n",
    "y_test_base = X_test_base.match\n",
    "X_test_base.drop('match', axis=1, inplace=True)\n",
    "\n",
    "\n",
    "X_train_smote = pd.read_csv(r'../dataset/train_smote.csv')\n",
    "X_test_smote = pd.read_csv(r'../dataset/test_smote.csv')\n",
    "\n",
    "y_train_smote = X_train_smote.match\n",
    "X_train_smote.drop('match', axis=1, inplace=True)\n",
    "\n",
    "y_test_smote = X_test_smote.match\n",
    "X_test_smote.drop('match', axis=1, inplace=True)\n",
    "\n",
    "X_train_poly = pd.read_csv(r'../dataset/train_poly.csv')\n",
    "X_test_poly = pd.read_csv(r'../dataset/test_poly.csv')\n",
    "\n",
    "y_train_poly = X_train_poly.match\n",
    "X_train_poly.drop('match', axis=1, inplace=True)\n",
    "\n",
    "y_test_poly = X_test_poly.match\n",
    "X_test_poly.drop('match', axis=1, inplace=True)"
   ]
  },
  {
   "cell_type": "code",
   "execution_count": 21,
   "metadata": {},
   "outputs": [
    {
     "output_type": "stream",
     "name": "stdout",
     "text": [
      "0     0\n1     0\n2     0\n3     0\n4     0\n5     0\n6     0\n7     0\n8     0\n9     0\n10    0\n11    0\n12    0\n13    0\n14    0\n15    0\n16    0\n17    1\n18    0\n19    0\nName: match, dtype: int64\n"
     ]
    }
   ],
   "source": [
    "print(y_train_poly.head(20))"
   ]
  },
  {
   "cell_type": "code",
   "execution_count": null,
   "metadata": {},
   "outputs": [],
   "source": []
  }
 ]
}