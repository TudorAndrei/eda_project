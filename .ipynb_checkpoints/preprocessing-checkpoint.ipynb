{
 "cells": [
  {
   "cell_type": "code",
   "execution_count": 1,
   "metadata": {},
   "outputs": [],
   "source": [
    "import pandas as pd\n",
    "from sklearn.preprocessing import MinMaxScaler, Normalizer, StandardScaler, OneHotEncoder\n",
    "from sklearn.pipeline import make_pipeline"
   ]
  },
  {
   "cell_type": "code",
   "execution_count": 2,
   "metadata": {},
   "outputs": [],
   "source": [
    "file = r'dataset/Speed Dating Data.csv'\n",
    "data = pd.read_csv(file, encoding='utf-8')"
   ]
  },
  {
   "cell_type": "code",
   "execution_count": 3,
   "metadata": {},
   "outputs": [],
   "source": [
    "cols = pd.read_csv(\"cols.txt\")['colname'].tolist()"
   ]
  },
  {
   "cell_type": "code",
   "execution_count": 4,
   "metadata": {},
   "outputs": [],
   "source": [
    "data_df = data[cols].copy()\n",
    "data_df.dropna(axis=0,inplace=True)\n",
    "data_df.reset_index(inplace=True, drop=True)"
   ]
  },
  {
   "cell_type": "code",
   "execution_count": 5,
   "metadata": {},
   "outputs": [],
   "source": [
    "# check if there are neg values\n",
    "for i in range(len(data_df.index)):\n",
    "    for col in cols:\n",
    "        if data_df.at[i, col] < 0 and col != \"int_corr\":\n",
    "            print(i, col)"
   ]
  },
  {
   "cell_type": "markdown",
   "metadata": {},
   "source": [
    "# Use onehot encoding for field_cd"
   ]
  },
  {
   "cell_type": "code",
   "execution_count": 6,
   "metadata": {},
   "outputs": [],
   "source": [
    "cat_cols = ['gender', 'match', 'samerace', 'dec_o', 'imprelig', 'goal','date']\n",
    "to_one_hot = ['field_cd']\n",
    "to_normalize = ['int_corr', 'age_o',  'attr_o', 'age', 'go_out',\n",
    "       'sports', 'tvsports', 'exercise', 'dining', 'museums', 'art', 'hiking',\n",
    "       'gaming', 'clubbing', 'reading', 'tv', 'theater', 'movies', 'concerts',\n",
    "       'music', 'shopping', 'yoga', 'exphappy']"
   ]
  },
  {
   "cell_type": "code",
   "execution_count": 7,
   "metadata": {},
   "outputs": [],
   "source": [
    "df_to_normalize = data_df[to_normalize].copy()\n",
    "df_to_one_hot = data_df[to_one_hot].copy()\n",
    "df_categorical = data_df[cat_cols].copy()"
   ]
  },
  {
   "cell_type": "code",
   "execution_count": 8,
   "metadata": {},
   "outputs": [],
   "source": [
    "minmax = MinMaxScaler((0,1)).fit(df_to_normalize)\n",
    "\n",
    "df_to_normalize = minmax.transform(df_to_normalize)\n",
    "df_to_normalize = pd.DataFrame(df_to_normalize)\n",
    "df_to_normalize.columns = to_normalize\n",
    "\n",
    "\n",
    "\n",
    "one_hot = OneHotEncoder().fit(df_to_one_hot)\n",
    "\n",
    "df_to_one_hot = one_hot.transform(df_to_one_hot)\n",
    "df_to_one_hot = pd.DataFrame(df_to_one_hot.toarray())\n",
    "df_to_one_hot.columns = [ 'to_one_hot_' + str(x) for x in range(len(one_hot.categories_[0])) ]\n",
    "\n",
    "\n",
    "result1_df = pd.concat([df_to_normalize, df_to_one_hot,df_categorical],axis = 1)\n"
   ]
  },
  {
   "cell_type": "code",
   "execution_count": 9,
   "metadata": {},
   "outputs": [
    {
     "data": {
      "text/plain": [
       "Index(['int_corr', 'age_o', 'attr_o', 'age', 'go_out', 'sports', 'tvsports',\n",
       "       'exercise', 'dining', 'museums', 'art', 'hiking', 'gaming', 'clubbing',\n",
       "       'reading', 'tv', 'theater', 'movies', 'concerts', 'music', 'shopping',\n",
       "       'yoga', 'exphappy', 'to_one_hot_0', 'to_one_hot_1', 'to_one_hot_2',\n",
       "       'to_one_hot_3', 'to_one_hot_4', 'to_one_hot_5', 'to_one_hot_6',\n",
       "       'to_one_hot_7', 'to_one_hot_8', 'to_one_hot_9', 'to_one_hot_10',\n",
       "       'to_one_hot_11', 'to_one_hot_12', 'to_one_hot_13', 'to_one_hot_14',\n",
       "       'to_one_hot_15', 'to_one_hot_16', 'to_one_hot_17', 'gender', 'match',\n",
       "       'samerace', 'dec_o', 'imprelig', 'goal', 'date'],\n",
       "      dtype='object')"
      ]
     },
     "execution_count": 9,
     "metadata": {},
     "output_type": "execute_result"
    }
   ],
   "source": [
    "result1_df.columns"
   ]
  },
  {
   "cell_type": "code",
   "execution_count": 10,
   "metadata": {},
   "outputs": [],
   "source": [
    "result1_df.to_csv(\"./dataset/processed_onehot.csv\", index=False)"
   ]
  },
  {
   "cell_type": "markdown",
   "metadata": {},
   "source": [
    "# Don't use onehot encoding for field_cd"
   ]
  },
  {
   "cell_type": "code",
   "execution_count": 11,
   "metadata": {},
   "outputs": [],
   "source": [
    "cat_cols = ['gender', 'match', 'samerace', 'dec_o', 'imprelig', 'goal','date', 'field_cd']\n",
    "to_normalize = ['int_corr', 'age_o',  'attr_o', 'age', 'go_out',\n",
    "       'sports', 'tvsports', 'exercise', 'dining', 'museums', 'art', 'hiking',\n",
    "       'gaming', 'clubbing', 'reading', 'tv', 'theater', 'movies', 'concerts',\n",
    "       'music', 'shopping', 'yoga', 'exphappy']"
   ]
  },
  {
   "cell_type": "code",
   "execution_count": 12,
   "metadata": {},
   "outputs": [],
   "source": [
    "df_to_normalize = data_df[to_normalize].copy()\n",
    "df_to_one_hot = data_df[to_one_hot].copy()\n",
    "df_categorical = data_df[cat_cols].copy()"
   ]
  },
  {
   "cell_type": "code",
   "execution_count": null,
   "metadata": {},
   "outputs": [],
   "source": []
  },
  {
   "cell_type": "code",
   "execution_count": 13,
   "metadata": {},
   "outputs": [],
   "source": [
    "minmax = MinMaxScaler((0,1)).fit(df_to_normalize)\n",
    "\n",
    "df_to_normalize = minmax.transform(df_to_normalize)\n",
    "df_to_normalize = pd.DataFrame(df_to_normalize)\n",
    "df_to_normalize.columns = to_normalize\n",
    "\n",
    "\n",
    "result2_df = pd.concat([df_to_normalize, df_to_one_hot,df_categorical],axis = 1)\n"
   ]
  },
  {
   "cell_type": "code",
   "execution_count": 14,
   "metadata": {},
   "outputs": [],
   "source": [
    "result2_df.to_csv(\"./dataset/processed.csv\", index=False)"
   ]
  },
  {
   "cell_type": "code",
   "execution_count": 15,
   "metadata": {},
   "outputs": [
    {
     "data": {
      "text/plain": [
       "Index(['int_corr', 'age_o', 'attr_o', 'age', 'go_out', 'sports', 'tvsports',\n",
       "       'exercise', 'dining', 'museums', 'art', 'hiking', 'gaming', 'clubbing',\n",
       "       'reading', 'tv', 'theater', 'movies', 'concerts', 'music', 'shopping',\n",
       "       'yoga', 'exphappy', 'field_cd', 'gender', 'match', 'samerace', 'dec_o',\n",
       "       'imprelig', 'goal', 'date', 'field_cd'],\n",
       "      dtype='object')"
      ]
     },
     "execution_count": 15,
     "metadata": {},
     "output_type": "execute_result"
    }
   ],
   "source": [
    "result2_df.columns"
   ]
  },
  {
   "cell_type": "code",
   "execution_count": null,
   "metadata": {},
   "outputs": [],
   "source": []
  }
 ],
 "metadata": {
  "kernelspec": {
   "display_name": "Python 3",
   "language": "python",
   "name": "python3"
  },
  "language_info": {
   "codemirror_mode": {
    "name": "ipython",
    "version": 3
   },
   "file_extension": ".py",
   "mimetype": "text/x-python",
   "name": "python",
   "nbconvert_exporter": "python",
   "pygments_lexer": "ipython3",
   "version": "3.8.5"
  },
  "toc-autonumbering": false
 },
 "nbformat": 4,
 "nbformat_minor": 4
}
