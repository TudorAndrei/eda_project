{
 "metadata": {
  "language_info": {
   "codemirror_mode": {
    "name": "ipython",
    "version": 3
   },
   "file_extension": ".py",
   "mimetype": "text/x-python",
   "name": "python",
   "nbconvert_exporter": "python",
   "pygments_lexer": "ipython3",
   "version": "3.7.6-final"
  },
  "orig_nbformat": 2,
  "kernelspec": {
   "name": "python3",
   "display_name": "Python 3",
   "language": "python"
  }
 },
 "nbformat": 4,
 "nbformat_minor": 2,
 "cells": [
  {
   "cell_type": "code",
   "execution_count": 27,
   "metadata": {},
   "outputs": [],
   "source": [
    "import pandas as pd\n",
    "import numpy as np\n",
    "from sklearn.metrics import classification_report, balanced_accuracy_score\n",
    "from sklearn.linear_model import SGDClassifier\n",
    "from sklearn.metrics import roc_curve, roc_auc_score\n",
    "import matplotlib.pyplot as plt\n",
    "from sklearn.ensemble import GradientBoostingClassifier\n",
    "from sklearn.metrics import (accuracy_score, balanced_accuracy_score,\n",
    "                             classification_report, plot_confusion_matrix,\n",
    "                             roc_auc_score)\n",
    "from sklearn.model_selection import train_test_split\n",
    "from sklearn.model_selection import GridSearchCV\n",
    "from imblearn.ensemble import EasyEnsembleClassifier, RUSBoostClassifier\n",
    "import seaborn as sns\n",
    "from sklearn.ensemble import RandomForestClassifier\n"
   ]
  },
  {
   "cell_type": "code",
   "execution_count": 28,
   "metadata": {},
   "outputs": [],
   "source": [
    "X_train_base = pd.read_csv(r'../dataset/train.csv')\n",
    "X_test_base = pd.read_csv(r'../dataset/test.csv')\n",
    "\n",
    "y_train_base = X_train_base.match\n",
    "X_train_base.drop('match', axis=1, inplace=True)\n",
    "\n",
    "y_test_base = X_test_base.match\n",
    "X_test_base.drop('match', axis=1, inplace=True)\n",
    "\n",
    "\n",
    "X_train_smote = pd.read_csv(r'../dataset/train_smote.csv')\n",
    "X_test_smote = pd.read_csv(r'../dataset/test_smote.csv')\n",
    "\n",
    "y_train_smote = X_train_smote.match\n",
    "X_train_smote.drop('match', axis=1, inplace=True)\n",
    "\n",
    "y_test_smote = X_test_smote.match\n",
    "X_test_smote.drop('match', axis=1, inplace=True)\n",
    "\n",
    "X_train_poly = pd.read_csv(r'../dataset/train_poly.csv')\n",
    "X_test_poly = pd.read_csv(r'../dataset/test_poly.csv')\n",
    "\n",
    "y_train_poly = X_train_poly.match\n",
    "X_train_poly.drop('match', axis=1, inplace=True)\n",
    "\n",
    "y_test_poly = X_test_poly.match\n",
    "X_test_poly.drop('match', axis=1, inplace=True)"
   ]
  },
  {
   "source": [
    "# Base"
   ],
   "cell_type": "markdown",
   "metadata": {}
  },
  {
   "cell_type": "code",
   "execution_count": 29,
   "metadata": {},
   "outputs": [
    {
     "output_type": "stream",
     "name": "stdout",
     "text": [
      "\n",
      "\n",
      "Classification Report on the TRAIN SET\n",
      "\n",
      "\n",
      "              precision    recall  f1-score   support\n",
      "\n",
      "           0       1.00      0.71      0.83      4617\n",
      "           1       0.41      0.98      0.58       936\n",
      "\n",
      "    accuracy                           0.76      5553\n",
      "   macro avg       0.70      0.85      0.71      5553\n",
      "weighted avg       0.90      0.76      0.79      5553\n",
      "\n",
      "\n",
      "\n",
      "Model's accuracy on train: 0.8482864330817548\n",
      "\n",
      "\n",
      "Classification Report on the TEST SET\n",
      "\n",
      "\n",
      "              precision    recall  f1-score   support\n",
      "\n",
      "           0       0.99      0.70      0.82      1979\n",
      "           1       0.39      0.97      0.56       402\n",
      "\n",
      "    accuracy                           0.74      2381\n",
      "   macro avg       0.69      0.83      0.69      2381\n",
      "weighted avg       0.89      0.74      0.77      2381\n",
      "\n",
      "\n",
      "\n",
      "Model's accuracy on test: 0.8322391327847876\n"
     ]
    }
   ],
   "source": [
    "sgd_base = SGDClassifier(\n",
    "    loss = 'log',\n",
    "    # verbose = 1,\n",
    "    max_iter = 1000,\n",
    "    tol = 1e-4,\n",
    "    n_jobs = -1,\n",
    "    random_state=42,\n",
    "    early_stopping=True,\n",
    "    validation_fraction = 0.2,\n",
    "    n_iter_no_change = 100,\n",
    "    class_weight='balanced'\n",
    ")\n",
    "\n",
    "sgd_base.fit(X_train_base, y_train_base)\n",
    "sgd_base_pred = sgd_base.predict(X_test_base)\n",
    "sgd_base_pred_train = sgd_base.predict(X_train_base)\n",
    "\n",
    "print(\"\\n\\nClassification Report on the TRAIN SET\\n\\n\")\n",
    "print(classification_report(y_train_base, sgd_base_pred_train))\n",
    "print(\"\\n\\nModel's accuracy on train: {}\".format(balanced_accuracy_score(y_train_base, sgd_base_pred_train)))\n",
    "\n",
    "print(\"\\n\\nClassification Report on the TEST SET\\n\\n\")\n",
    "print(classification_report(y_test_base, sgd_base_pred))\n",
    "print(\"\\n\\nModel's accuracy on test: {}\".format(balanced_accuracy_score(y_test_base, sgd_base_pred)))"
   ]
  },
  {
   "source": [
    "# Poly"
   ],
   "cell_type": "markdown",
   "metadata": {}
  },
  {
   "cell_type": "code",
   "execution_count": 30,
   "metadata": {},
   "outputs": [
    {
     "output_type": "stream",
     "name": "stdout",
     "text": [
      "\n\nClassification Report on the TRAIN SET\n\n\n              precision    recall  f1-score   support\n\n           0       1.00      0.71      0.83      4617\n           1       0.41      0.98      0.58       936\n\n    accuracy                           0.76      5553\n   macro avg       0.70      0.85      0.71      5553\nweighted avg       0.90      0.76      0.79      5553\n\n\n\nModel's accuracy on train: 0.8482864330817548\n\n\nClassification Report on the TEST SET\n\n\n              precision    recall  f1-score   support\n\n           0       0.99      0.70      0.82      1979\n           1       0.39      0.97      0.56       402\n\n    accuracy                           0.74      2381\n   macro avg       0.69      0.83      0.69      2381\nweighted avg       0.89      0.74      0.77      2381\n\n\n\nModel's accuracy on test: 0.8322391327847876\n"
     ]
    }
   ],
   "source": [
    "sgd_poly = SGDClassifier(\n",
    "    loss = 'log',\n",
    "    # verbose = 1,\n",
    "    max_iter = 1000,\n",
    "    tol = 1e-4,\n",
    "    n_jobs = -1,\n",
    "    random_state=42,\n",
    "    early_stopping=True,\n",
    "    validation_fraction = 0.2,\n",
    "    n_iter_no_change = 100,\n",
    "    class_weight='balanced'\n",
    ")\n",
    "\n",
    "sgd_poly.fit(X_train_poly, y_train_poly)\n",
    "sgd_poly_pred = sgd_poly.predict(X_test_poly)\n",
    "sgd_poly_pred_train = sgd_poly.predict(X_train_poly)\n",
    "\n",
    "print(\"\\n\\nClassification Report on the TRAIN SET\\n\\n\")\n",
    "print(classification_report(y_train_poly, sgd_poly_pred_train))\n",
    "print(\"\\n\\nModel's accuracy on train: {}\".format(balanced_accuracy_score(y_train_poly, sgd_poly_pred_train)))\n",
    "\n",
    "print(\"\\n\\nClassification Report on the TEST SET\\n\\n\")\n",
    "print(classification_report(y_test_poly, sgd_poly_pred))\n",
    "print(\"\\n\\nModel's accuracy on test: {}\".format(balanced_accuracy_score(y_test_poly, sgd_poly_pred)))"
   ]
  },
  {
   "source": [
    "# Smote"
   ],
   "cell_type": "markdown",
   "metadata": {}
  },
  {
   "cell_type": "code",
   "execution_count": 31,
   "metadata": {},
   "outputs": [
    {
     "output_type": "stream",
     "name": "stdout",
     "text": [
      "\n\nClassification Report on the TRAIN SET\n\n\n              precision    recall  f1-score   support\n\n           0       0.96      0.76      0.85      4479\n           1       0.80      0.97      0.88      4479\n\n    accuracy                           0.86      8958\n   macro avg       0.88      0.86      0.86      8958\nweighted avg       0.88      0.86      0.86      8958\n\n\n\nModel's accuracy on train: 0.8649252065193123\n\n\nClassification Report on the TEST SET\n\n\n              precision    recall  f1-score   support\n\n           0       0.98      0.72      0.83      1979\n           1       0.40      0.91      0.55       402\n\n    accuracy                           0.75      2381\n   macro avg       0.69      0.82      0.69      2381\nweighted avg       0.88      0.75      0.78      2381\n\n\n\nModel's accuracy on test: 0.8155068517945894\n"
     ]
    }
   ],
   "source": [
    "sgd_smote = SGDClassifier(\n",
    "    loss = 'log',\n",
    "    # verbose = 1,\n",
    "    max_iter = 1000,\n",
    "    tol = 1e-4,\n",
    "    n_jobs = -1,\n",
    "    random_state=42,\n",
    "    early_stopping=True,\n",
    "    validation_fraction = 0.2,\n",
    "    n_iter_no_change = 100,\n",
    "    class_weight='balanced'\n",
    ")\n",
    "\n",
    "sgd_smote.fit(X_train_smote, y_train_smote)\n",
    "sgd_smote_pred = sgd_smote.predict(X_test_smote)\n",
    "sgd_smote_pred_train = sgd_smote.predict(X_train_smote)\n",
    "\n",
    "print(\"\\n\\nClassification Report on the TRAIN SET\\n\\n\")\n",
    "print(classification_report(y_train_smote, sgd_smote_pred_train))\n",
    "print(\"\\n\\nModel's accuracy on train: {}\".format(balanced_accuracy_score(y_train_smote, sgd_smote_pred_train)))\n",
    "\n",
    "print(\"\\n\\nClassification Report on the TEST SET\\n\\n\")\n",
    "print(classification_report(y_test_smote, sgd_smote_pred))\n",
    "print(\"\\n\\nModel's accuracy on test: {}\".format(balanced_accuracy_score(y_test_smote, sgd_smote_pred)))"
   ]
  },
  {
   "cell_type": "code",
   "execution_count": null,
   "metadata": {},
   "outputs": [],
   "source": []
  }
 ]
}