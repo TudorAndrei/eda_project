{
 "cells": [
  {
   "cell_type": "code",
   "execution_count": 15,
   "metadata": {},
   "outputs": [],
   "source": [
    "import matplotlib.pyplot as plt\n",
    "import pandas as pd\n",
    "from imblearn.metrics import classification_report_imbalanced\n",
    "from sklearn.ensemble import GradientBoostingClassifier\n",
    "from sklearn.feature_selection import SelectKBest, f_classif\n",
    "from sklearn.metrics import (accuracy_score, balanced_accuracy_score,\n",
    "                             classification_report, plot_confusion_matrix,\n",
    "                             roc_auc_score)\n",
    "from sklearn.model_selection import train_test_split\n",
    "from sklearn.model_selection import GridSearchCV\n",
    "\n",
    "from imblearn.ensemble import EasyEnsembleClassifier, RUSBoostClassifier\n",
    "from utils import *\n",
    "import numpy as np\n",
    "from collections import Counter\n",
    "\n"
   ]
  },
  {
   "cell_type": "code",
   "execution_count": 2,
   "metadata": {},
   "outputs": [],
   "source": [
    "X_train = pd.read_csv(\"../dataset/train.csv\")\n",
    "X_test = pd.read_csv(\"../dataset/test.csv\")\n",
    "y_train = X_train.match\n",
    "y_test = X_test.match\n",
    "\n",
    "X_train = X_train.drop(\"match\",1)\n",
    "X_test = X_test.drop(\"match\",1)"
   ]
  },
  {
   "cell_type": "code",
   "execution_count": 10,
   "metadata": {},
   "outputs": [],
   "source": [
    "parameters = {\n",
    "    \"learning_rate\": [0.01, 0.05, 0.1],\n",
    "    \"min_samples_split\": [0.2, 0.3],\n",
    "    \"min_samples_leaf\": [0.3, 0.4],\n",
    "    \"max_depth\":[3, 5, 8],\n",
    "    \"max_features\":[\"log2\",\"sqrt\"],\n",
    "    \"subsample\":[0.5, 0.8, 1.0]\n",
    "    }\n",
    "\n",
    "clf = GridSearchCV(GradientBoostingClassifier(), parameters,scoring='balanced_accuracy',refit=True,cv=2, n_jobs=-1)\n"
   ]
  },
  {
   "cell_type": "code",
   "execution_count": 27,
   "metadata": {},
   "outputs": [],
   "source": [
    "\n",
    "\n",
    "clf.fit(X_train, y_train)\n",
    "best_parameters = clf.best_params_\n"
   ]
  },
  {
   "cell_type": "code",
   "execution_count": 28,
   "metadata": {},
   "outputs": [
    {
     "data": {
      "text/plain": [
       "GradientBoostingClassifier(max_depth=8, max_features='sqrt',\n",
       "                           min_samples_leaf=0.3, min_samples_split=0.3)"
      ]
     },
     "execution_count": 28,
     "metadata": {},
     "output_type": "execute_result"
    }
   ],
   "source": [
    "model = GradientBoostingClassifier(**best_parameters, n_estimators=100)\n",
    "model.fit(X_train, y_train)"
   ]
  },
  {
   "cell_type": "code",
   "execution_count": 29,
   "metadata": {},
   "outputs": [
    {
     "name": "stdout",
     "output_type": "stream",
     "text": [
      "              precision    recall  f1-score   support\n",
      "\n",
      "           0       0.84      0.99      0.91      1979\n",
      "           1       0.43      0.05      0.09       402\n",
      "\n",
      "    accuracy                           0.83      2381\n",
      "   macro avg       0.63      0.52      0.50      2381\n",
      "weighted avg       0.77      0.83      0.77      2381\n",
      "\n",
      "              precision    recall  f1-score   support\n",
      "\n",
      "           0       0.84      0.99      0.91      4617\n",
      "           1       0.65      0.08      0.15       936\n",
      "\n",
      "    accuracy                           0.84      5553\n",
      "   macro avg       0.75      0.54      0.53      5553\n",
      "weighted avg       0.81      0.84      0.78      5553\n",
      "\n",
      "0.5173155194215884\n"
     ]
    },
    {
     "data": {
      "image/png": "[encoded data removed]",
      "text/plain": [
       "<Figure size 432x288 with 2 Axes>"
      ]
     },
     "metadata": {
      "needs_background": "light"
     },
     "output_type": "display_data"
    }
   ],
   "source": [
    "Y_hat_test = model.predict(X_test)\n",
    "y_hat_train = model.predict(X_train)\n",
    "\n",
    "print(classification_report(y_test, Y_hat_test))\n",
    "print(classification_report(y_train, y_hat_train))\n",
    "print(balanced_accuracy_score(y_test, Y_hat_test))\n",
    "\n",
    "disp = plot_confusion_matrix(eec, X_test, y_test,\n",
    "                             cmap=plt.cm.Blues)\n",
    "disp.ax_.set_title('title')\n",
    "\n",
    "plt.show()"
   ]
  },
  {
   "cell_type": "code",
   "execution_count": 36,
   "metadata": {},
   "outputs": [
    {
     "data": {
      "text/plain": [
       "EasyEnsembleClassifier(base_estimator=GradientBoostingClassifier(max_depth=8,\n",
       "                                                                 max_features='sqrt',\n",
       "                                                                 min_samples_leaf=0.3,\n",
       "                                                                 min_samples_split=0.3),\n",
       "                       n_jobs=-1, random_state=42)"
      ]
     },
     "execution_count": 36,
     "metadata": {},
     "output_type": "execute_result"
    }
   ],
   "source": [
    "estimator = GradientBoostingClassifier(**best_parameters, n_estimators=100)\n",
    "eec = EasyEnsembleClassifier(random_state=42,\n",
    "                              n_jobs=-1,\n",
    "                              base_estimator=estimator)\n",
    "\n",
    "eec.fit(X_train, y_train)"
   ]
  },
  {
   "cell_type": "code",
   "execution_count": 37,
   "metadata": {},
   "outputs": [
    {
     "name": "stdout",
     "output_type": "stream",
     "text": [
      "              precision    recall  f1-score   support\n",
      "\n",
      "           0       1.00      0.68      0.81      1979\n",
      "           1       0.39      1.00      0.56       402\n",
      "\n",
      "    accuracy                           0.73      2381\n",
      "   macro avg       0.69      0.84      0.68      2381\n",
      "weighted avg       0.90      0.73      0.77      2381\n",
      "\n",
      "              precision    recall  f1-score   support\n",
      "\n",
      "           0       1.00      0.70      0.82      4617\n",
      "           1       0.40      1.00      0.57       936\n",
      "\n",
      "    accuracy                           0.75      5553\n",
      "   macro avg       0.70      0.85      0.70      5553\n",
      "weighted avg       0.90      0.75      0.78      5553\n",
      "\n",
      "0.8383411391752706\n"
     ]
    },
    {
     "data": {
      "image/png": "[encoded data removed]",
      "text/plain": [
       "<Figure size 432x288 with 2 Axes>"
      ]
     },
     "metadata": {
      "needs_background": "light"
     },
     "output_type": "display_data"
    }
   ],
   "source": [
    "Y_hat_test = eec.predict(X_test)\n",
    "y_hat_train = eec.predict(X_train)\n",
    "\n",
    "print(classification_report(y_test, Y_hat_test))\n",
    "print(classification_report(y_train, y_hat_train))\n",
    "print(balanced_accuracy_score(y_test, Y_hat_test))\n",
    "\n",
    "disp = plot_confusion_matrix(eec, X_test, y_test,\n",
    "                             cmap=plt.cm.Blues)\n",
    "disp.ax_.set_title('title')\n",
    "\n",
    "plt.show()"
   ]
  },
  {
   "cell_type": "code",
   "execution_count": null,
   "metadata": {},
   "outputs": [],
   "source": []
  }
 ],
 "metadata": {
  "kernelspec": {
   "display_name": "Python 3",
   "language": "python",
   "name": "python3"
  },
  "language_info": {
   "codemirror_mode": {
    "name": "ipython",
    "version": 3
   },
   "file_extension": ".py",
   "mimetype": "text/x-python",
   "name": "python",
   "nbconvert_exporter": "python",
   "pygments_lexer": "ipython3",
   "version": "3.8.5"
  }
 },
 "nbformat": 4,
 "nbformat_minor": 4
}
