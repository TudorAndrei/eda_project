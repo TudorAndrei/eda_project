{
 "cells": [
  {
   "cell_type": "code",
   "execution_count": null,
   "metadata": {},
   "outputs": [],
   "source": [
    "import matplotlib.pyplot as plt\n",
    "import pandas as pd\n",
    "from imblearn.metrics import classification_report_imbalanced\n",
    "from sklearn.ensemble import GradientBoostingClassifier\n",
    "from sklearn.feature_selection import SelectKBest, f_classif\n",
    "from sklearn.metrics import (accuracy_score, balanced_accuracy_score,\n",
    "                             classification_report, plot_confusion_matrix,\n",
    "                             roc_auc_score)\n",
    "from sklearn.model_selection import train_test_split\n",
    "\n",
    "from utils import *\n",
    "\n",
    "\n"
   ]
  },
  {
   "cell_type": "code",
   "execution_count": null,
   "metadata": {},
   "outputs": [],
   "source": [
    "feature_selection = False\n",
    "file_path = \"../dataset/processed.csv\"\n",
    "raw_data = pd.read_csv(file_path)\n",
    "\n",
    "\n",
    "X, y = get_x_y(raw_data)\n",
    "\n",
    "cols = X.columns.tolist()\n",
    "index = X.columns.values\n",
    "\n",
    "if feature_selection == True:\n",
    "    s_f = f_classif\n",
    "    sel = SelectKBest(score_func=s_f, k=15)\n",
    "    X_new = sel.fit_transform(X, y)\n",
    "    imp = sel.get_support(indices=True)\n",
    "    important_features = [cols[i] for i in imp]\n",
    "    index = raw_data[important_features].columns.values\n",
    "\n",
    "    print(f\"The important features are : \\n\\t{important_features}\")\n",
    "    X = X_new\n",
    "\n",
    "\n",
    "X_train, X_test, y_train, y_test = train_test_split(\n",
    "    X, y, test_size=0.2, stratify=y, shuffle=True, random_state=42)\n",
    "\n"
   ]
  },
  {
   "cell_type": "code",
   "execution_count": null,
   "metadata": {},
   "outputs": [],
   "source": [
    "\n",
    "model = GradientBoostingClassifier(random_state=42)\n",
    "\n",
    "model.fit(X_train, y_train)\n",
    "y_hat = model.predict(X_test)\n",
    "y_hat_train = model.predict(X_train)\n",
    "\n",
    "print(classification_report_imbalanced(y_test, y_hat))\n",
    "print(classification_report_imbalanced(y_train, y_hat_train))\n",
    "\n",
    "disp = plot_confusion_matrix(model, X_test, y_test,\n",
    "                             cmap=plt.cm.Blues)\n",
    "disp.ax_.set_title('title')\n",
    "\n",
    "plt.show()"
   ]
  }
 ],
 "metadata": {
  "kernelspec": {
   "display_name": "Python 3",
   "language": "python",
   "name": "python3"
  },
  "language_info": {
   "codemirror_mode": {
    "name": "ipython",
    "version": 3
   },
   "file_extension": ".py",
   "mimetype": "text/x-python",
   "name": "python",
   "nbconvert_exporter": "python",
   "pygments_lexer": "ipython3",
   "version": "3.8.5"
  }
 },
 "nbformat": 4,
 "nbformat_minor": 4
}
