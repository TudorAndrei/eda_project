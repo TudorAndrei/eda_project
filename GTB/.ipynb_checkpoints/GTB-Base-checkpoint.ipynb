{
 "cells": [
  {
   "cell_type": "code",
   "execution_count": 15,
   "metadata": {},
   "outputs": [],
   "source": [
    "import matplotlib.pyplot as plt\n",
    "import pandas as pd\n",
    "from imblearn.metrics import classification_report_imbalanced\n",
    "from sklearn.ensemble import GradientBoostingClassifier\n",
    "from sklearn.feature_selection import SelectKBest, f_classif\n",
    "from sklearn.metrics import (accuracy_score, balanced_accuracy_score,\n",
    "                             classification_report, plot_confusion_matrix,\n",
    "                             roc_auc_score)\n",
    "from sklearn.model_selection import train_test_split\n",
    "from sklearn.model_selection import GridSearchCV\n",
    "\n",
    "from imblearn.ensemble import EasyEnsembleClassifier, RUSBoostClassifier\n",
    "from utils import *\n",
    "import numpy as np\n",
    "from collections import Counter\n",
    "\n"
   ]
  },
  {
   "cell_type": "code",
   "execution_count": 38,
   "metadata": {},
   "outputs": [],
   "source": [
    "X_train_base = pd.read_csv(\"../dataset/train.csv\")\n",
    "X_test_base = pd.read_csv(\"../dataset/test.csv\")\n",
    "y_train_base = X_train_base.match\n",
    "y_test_base = X_test_base.match\n",
    "\n",
    "X_train_base = X_train_base.drop(\"match\",1)\n",
    "X_test_base = X_test_base.drop(\"match\",1)"
   ]
  },
  {
   "cell_type": "code",
   "execution_count": 10,
   "metadata": {},
   "outputs": [],
   "source": [
    "parameters = {\n",
    "    \"learning_rate\": [0.01, 0.05, 0.1],\n",
    "    \"min_samples_split\": [0.2, 0.3],\n",
    "    \"min_samples_leaf\": [0.3, 0.4],\n",
    "    \"max_depth\":[3, 5, 8],\n",
    "    \"max_features\":[\"log2\",\"sqrt\"],\n",
    "    \"subsample\":[0.5, 0.8, 1.0]\n",
    "    }\n",
    "\n",
    "gs_gbc = GridSearchCV(GradientBoostingClassifier(), parameters,scoring='balanced_accuracy',refit=True,cv=2, n_jobs=-1)"
   ]
  },
  {
   "cell_type": "code",
   "execution_count": 27,
   "metadata": {},
   "outputs": [],
   "source": [
    "gs_gbc.fit(X_train_base, y_train_base)\n",
    "best_parameters = gs_gbc.best_params_"
   ]
  },
  {
   "cell_type": "code",
   "execution_count": 39,
   "metadata": {},
   "outputs": [
    {
     "data": {
      "text/plain": [
       "EasyEnsembleClassifier(base_estimator=GradientBoostingClassifier(max_depth=8,\n",
       "                                                                 max_features='sqrt',\n",
       "                                                                 min_samples_leaf=0.3,\n",
       "                                                                 min_samples_split=0.3),\n",
       "                       n_jobs=-1, random_state=42)"
      ]
     },
     "execution_count": 39,
     "metadata": {},
     "output_type": "execute_result"
    }
   ],
   "source": [
    "estimator = GradientBoostingClassifier(**best_parameters, n_estimators=100)\n",
    "eec = EasyEnsembleClassifier(random_state=42,\n",
    "                              n_jobs=-1,\n",
    "                              base_estimator=estimator)\n",
    "\n",
    "eec.fit(X_train_base, y_train_base)"
   ]
  },
  {
   "cell_type": "code",
   "execution_count": 40,
   "metadata": {},
   "outputs": [
    {
     "name": "stdout",
     "output_type": "stream",
     "text": [
      "              precision    recall  f1-score   support\n",
      "\n",
      "           0       1.00      0.68      0.81      1979\n",
      "           1       0.39      1.00      0.56       402\n",
      "\n",
      "    accuracy                           0.73      2381\n",
      "   macro avg       0.69      0.84      0.68      2381\n",
      "weighted avg       0.90      0.73      0.77      2381\n",
      "\n",
      "              precision    recall  f1-score   support\n",
      "\n",
      "           0       1.00      0.70      0.82      4617\n",
      "           1       0.40      1.00      0.57       936\n",
      "\n",
      "    accuracy                           0.75      5553\n",
      "   macro avg       0.70      0.85      0.70      5553\n",
      "weighted avg       0.90      0.75      0.78      5553\n",
      "\n",
      "0.8383411391752706\n"
     ]
    }
   ],
   "source": [
    "Y_hat_test_base = eec.predict(X_test_base)\n",
    "y_hat_train_base = eec.predict(X_train_base)\n",
    "\n",
    "# print(classification_report(y_test_base, Y_hat_test_base))\n",
    "# print(classification_report(y_train_base, y_hat_train_base))\n",
    "print(balanced_accuracy_score(y_test_base, Y_hat_test))\n",
    "\n",
    "# disp = plot_confusion_matrix(eec, X_test_base, y_test_base,\n",
    "#                              cmap=plt.cm.Blues)\n",
    "# disp.ax_.set_title('title')\n",
    "\n",
    "# plt.show()"
   ]
  },
  {
   "cell_type": "code",
   "execution_count": null,
   "metadata": {},
   "outputs": [],
   "source": []
  },
  {
   "cell_type": "code",
   "execution_count": null,
   "metadata": {},
   "outputs": [],
   "source": []
  }
 ],
 "metadata": {
  "kernelspec": {
   "display_name": "Python 3",
   "language": "python",
   "name": "python3"
  },
  "language_info": {
   "codemirror_mode": {
    "name": "ipython",
    "version": 3
   },
   "file_extension": ".py",
   "mimetype": "text/x-python",
   "name": "python",
   "nbconvert_exporter": "python",
   "pygments_lexer": "ipython3",
   "version": "3.8.5"
  }
 },
 "nbformat": 4,
 "nbformat_minor": 4
}
