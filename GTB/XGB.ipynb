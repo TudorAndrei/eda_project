{
 "cells": [
  {
   "cell_type": "code",
   "execution_count": 5,
   "metadata": {},
   "outputs": [],
   "source": [
    "import pandas as pd\n",
    "from sklearn.preprocessing import MinMaxScaler, Normalizer, StandardScaler, OneHotEncoder\n",
    "from sklearn.pipeline import Pipeline\n",
    "from sklearn.model_selection import train_test_split\n",
    "from sklearn.ensemble import GradientBoostingClassifier\n",
    "\n",
    "from sklearn.base import BaseEstimator, TransformerMixin\n",
    "from sklearn.metrics import accuracy_score\n",
    "from sklearn.metrics import f1_score\n",
    "from sklearn.metrics import precision_score\n",
    "from sklearn.metrics import recall_score\n",
    "from sklearn.compose import ColumnTransformer"
   ]
  },
  {
   "cell_type": "code",
   "execution_count": 8,
   "metadata": {},
   "outputs": [],
   "source": [
    "file = r'../dataset/Speed Dating Data.csv'\n",
    "column_file = r'../cols.txt'\n",
    "data = pd.read_csv(file, encoding='utf-8')\n",
    "\n",
    "cols = pd.read_csv(column_file)['colname'].tolist()\n",
    "raw_data = data[cols]\n",
    "raw_data.dropna(axis=0,inplace=True)\n",
    "raw_data.reset_index(inplace=True, drop=True)"
   ]
  },
  {
   "cell_type": "code",
   "execution_count": 9,
   "metadata": {},
   "outputs": [],
   "source": [
    "cat_cols = ['gender', 'match', 'samerace', 'dec_o', 'field_cd', 'imprelig', 'goal','date', 'go_out']\n",
    "to_one_hot = ['field_cd']\n",
    "to_normalize = ['int_corr', 'age_o',  'attr_o', 'age', 'go_out',\n",
    "       'sports', 'tvsports', 'exercise', 'dining', 'museums', 'art', 'hiking',\n",
    "       'gaming', 'clubbing', 'reading', 'tv', 'theater', 'movies', 'concerts',\n",
    "       'music', 'shopping', 'yoga', 'exphappy']"
   ]
  },
  {
   "cell_type": "code",
   "execution_count": null,
   "metadata": {},
   "outputs": [],
   "source": [
    "X = raw_data.drop('date', axis=1)\n"
   ]
  }
 ],
 "metadata": {
  "kernelspec": {
   "display_name": "Python 3",
   "language": "python",
   "name": "python3"
  },
  "language_info": {
   "codemirror_mode": {
    "name": "ipython",
    "version": 3
   },
   "file_extension": ".py",
   "mimetype": "text/x-python",
   "name": "python",
   "nbconvert_exporter": "python",
   "pygments_lexer": "ipython3",
   "version": "3.8.5-final"
  },
  "toc-autonumbering": false
 },
 "nbformat": 4,
 "nbformat_minor": 4
}