{
 "cells": [
  {
   "cell_type": "code",
   "execution_count": 1,
   "metadata": {},
   "outputs": [],
   "source": [
    "from collections import Counter\n",
    "\n",
    "import pandas as pd\n",
    "from imblearn.ensemble import EasyEnsembleClassifier, RUSBoostClassifier\n",
    "from imblearn.metrics import classification_report_imbalanced\n",
    "from sklearn.ensemble import GradientBoostingClassifier\n",
    "from sklearn.feature_selection import SelectKBest, f_classif\n",
    "from sklearn.model_selection import train_test_split\n",
    "\n",
    "from utils import *\n",
    "import xgboost as xgb\n",
    "\n"
   ]
  },
  {
   "cell_type": "code",
   "execution_count": 2,
   "metadata": {},
   "outputs": [],
   "source": [
    "feature_selection = False\n",
    "file_path = \"../dataset/processed.csv\"\n",
    "raw_data = pd.read_csv(file_path)\n",
    "# raw_data.drop(to_drop, axis=1, inplace=True)\n",
    "X, y = get_x_y(raw_data)\n",
    "# save the columns of the dataframe\n",
    "cols = X.columns.tolist()\n",
    "\n",
    "index = X.columns.values\n",
    "\n",
    "\n",
    "X_train, X_test, y_train, y_test = train_test_split(\n",
    "    X, y, test_size=0.3, shuffle=True)\n",
    "\n"
   ]
  },
  {
   "cell_type": "code",
   "execution_count": 3,
   "metadata": {},
   "outputs": [],
   "source": [
    "\n",
    "model = GradientBoostingClassifier(\n",
    "    n_estimators=100, random_state=42)\n",
    "\n",
    "\n",
    "imbl_methods = {'eec': EasyEnsembleClassifier(random_state=42,\n",
    "                                              sampling_strategy=1.,\n",
    "                                              n_jobs=-1,\n",
    "                                              base_estimator=model),\n",
    "                'rub': RUSBoostClassifier(random_state=42,\n",
    "                                          sampling_strategy=1.,\n",
    "                                          base_estimator=model)}\n"
   ]
  },
  {
   "cell_type": "code",
   "execution_count": 4,
   "metadata": {},
   "outputs": [
    {
     "name": "stdout",
     "output_type": "stream",
     "text": [
      "Reults of eec\n",
      "0.749265014699706\n",
      "Train data\n",
      "              precision    recall  f1-score   support\n",
      "\n",
      "           0       1.00      0.71      0.83      4630\n",
      "           1       0.41      1.00      0.58       923\n",
      "\n",
      "    accuracy                           0.76      5553\n",
      "   macro avg       0.70      0.85      0.70      5553\n",
      "weighted avg       0.90      0.76      0.79      5553\n",
      "\n",
      "Test data\n",
      "              precision    recall  f1-score   support\n",
      "\n",
      "           0       1.00      0.70      0.82      1966\n",
      "           1       0.41      1.00      0.58       415\n",
      "\n",
      "    accuracy                           0.75      2381\n",
      "   macro avg       0.71      0.85      0.70      2381\n",
      "weighted avg       0.90      0.75      0.78      2381\n",
      "\n",
      "Reults of rub\n",
      "0.7144057118857623\n",
      "Train data\n",
      "              precision    recall  f1-score   support\n",
      "\n",
      "           0       0.89      0.78      0.83      4630\n",
      "           1       0.32      0.52      0.39       923\n",
      "\n",
      "    accuracy                           0.74      5553\n",
      "   macro avg       0.60      0.65      0.61      5553\n",
      "weighted avg       0.80      0.74      0.76      5553\n",
      "\n",
      "Test data\n",
      "              precision    recall  f1-score   support\n",
      "\n",
      "           0       0.88      0.76      0.81      1966\n",
      "           1       0.30      0.49      0.38       415\n",
      "\n",
      "    accuracy                           0.71      2381\n",
      "   macro avg       0.59      0.63      0.60      2381\n",
      "weighted avg       0.78      0.71      0.74      2381\n",
      "\n"
     ]
    }
   ],
   "source": [
    "\n",
    "for method in imbl_methods.keys():\n",
    "\n",
    "    imbl = imbl_methods[method]\n",
    "    imbl.fit(X_train, y_train)\n",
    "    y_hat_test = imbl.predict(X_test)\n",
    "    y_hat_train = imbl.predict(X_train)\n",
    "    print(f\"Reults of {method}\")\n",
    "    print(imbl.score(X_test, y_test))\n",
    "    print(\"Train data\")\n",
    "    print(classification_report(y_train, y_hat_train))\n",
    "    print(\"Test data\")\n",
    "    print(classification_report(y_test, y_hat_test))\n"
   ]
  },
  {
   "cell_type": "code",
   "execution_count": null,
   "metadata": {},
   "outputs": [],
   "source": []
  }
 ],
 "metadata": {
  "kernelspec": {
   "display_name": "Python 3",
   "language": "python",
   "name": "python3"
  },
  "language_info": {
   "codemirror_mode": {
    "name": "ipython",
    "version": 3
   },
   "file_extension": ".py",
   "mimetype": "text/x-python",
   "name": "python",
   "nbconvert_exporter": "python",
   "pygments_lexer": "ipython3",
   "version": "3.8.5"
  }
 },
 "nbformat": 4,
 "nbformat_minor": 4
}
