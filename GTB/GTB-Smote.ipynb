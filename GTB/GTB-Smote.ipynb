{
 "cells": [
  {
   "cell_type": "code",
   "execution_count": 15,
   "metadata": {},
   "outputs": [],
   "source": [
    "import matplotlib.pyplot as plt\n",
    "import pandas as pd\n",
    "from imblearn.metrics import classification_report_imbalanced\n",
    "from sklearn.ensemble import GradientBoostingClassifier\n",
    "from sklearn.feature_selection import SelectKBest, f_classif\n",
    "from sklearn.metrics import (accuracy_score, balanced_accuracy_score,\n",
    "                             classification_report, plot_confusion_matrix,\n",
    "                             roc_auc_score)\n",
    "from sklearn.model_selection import train_test_split\n",
    "from sklearn.model_selection import GridSearchCV\n",
    "\n",
    "from imblearn.ensemble import EasyEnsembleClassifier, RUSBoostClassifier\n",
    "from utils import *\n",
    "import numpy as np\n",
    "from collections import Counter\n",
    "\n"
   ]
  },
  {
   "cell_type": "code",
   "execution_count": 3,
   "metadata": {},
   "outputs": [],
   "source": [
    "X_train_smote = pd.read_csv(\"../dataset/train_smote.csv\")\n",
    "X_test_smote = pd.read_csv(\"../dataset/test_smote.csv\")\n",
    "y_train_smote = X_train_smote.match\n",
    "y_test_smote = X_test_smote.match\n",
    "\n",
    "X_train_smote = X_train_smote.drop(\"match\",1)\n",
    "X_test_smote = X_test_smote.drop(\"match\",1)"
   ]
  },
  {
   "cell_type": "code",
   "execution_count": 6,
   "metadata": {},
   "outputs": [],
   "source": [
    "parameters = {\n",
    "    \"learning_rate\": [0.01, 0.05, 0.1],\n",
    "    \"min_samples_split\": [0.2, 0.3],\n",
    "    \"min_samples_leaf\": [0.3, 0.4],\n",
    "    \"max_depth\":[3, 5, 8],\n",
    "    \"max_features\":[\"log2\",\"sqrt\"],\n",
    "    \"subsample\":[0.5, 0.8, 1.0]\n",
    "    }\n",
    "\n",
    "gs_gbc = GridSearchCV(GradientBoostingClassifier(), parameters,scoring='balanced_accuracy',refit=True,cv=2, n_jobs=-1)"
   ]
  },
  {
   "cell_type": "code",
   "execution_count": 7,
   "metadata": {},
   "outputs": [],
   "source": [
    "gs_gbc.fit(X_train_smote, y_train_smote)\n",
    "best_parameters = gs_gbc.best_params_"
   ]
  },
  {
   "cell_type": "code",
   "execution_count": 32,
   "metadata": {},
   "outputs": [
    {
     "data": {
      "text/plain": [
       "GradientBoostingClassifier(max_features='sqrt', min_samples_leaf=0.3,\n",
       "                           min_samples_split=0.2)"
      ]
     },
     "execution_count": 32,
     "metadata": {},
     "output_type": "execute_result"
    }
   ],
   "source": [
    "gbc = GradientBoostingClassifier(**best_parameters,n_estimators=100)\n",
    "gbc.fit(X_train_smote, y_train_smote)"
   ]
  },
  {
   "cell_type": "code",
   "execution_count": 33,
   "metadata": {},
   "outputs": [
    {
     "name": "stdout",
     "output_type": "stream",
     "text": [
      "              precision    recall  f1-score   support\n",
      "\n",
      "           0       0.99      0.70      0.82      1979\n",
      "           1       0.39      0.96      0.56       402\n",
      "\n",
      "    accuracy                           0.74      2381\n",
      "   macro avg       0.69      0.83      0.69      2381\n",
      "weighted avg       0.89      0.74      0.77      2381\n",
      "\n",
      "              precision    recall  f1-score   support\n",
      "\n",
      "           0       0.99      0.74      0.84      4479\n",
      "           1       0.79      0.99      0.88      4479\n",
      "\n",
      "    accuracy                           0.86      8958\n",
      "   macro avg       0.89      0.86      0.86      8958\n",
      "weighted avg       0.89      0.86      0.86      8958\n",
      "\n",
      "0.8287604423561827\n"
     ]
    },
    {
     "data": {
      "image/png": "[encoded data removed]",
      "text/plain": [
       "<Figure size 432x288 with 2 Axes>"
      ]
     },
     "metadata": {
      "needs_background": "light"
     },
     "output_type": "display_data"
    }
   ],
   "source": [
    "Y_hat_test_smote = gbc.predict(X_test_smote)\n",
    "y_hat_train_smote = gbc.predict(X_train_smote)\n",
    "\n",
    "# print(classification_report(y_test_smote, Y_hat_test_smote))\n",
    "# print(classification_report(y_train_smote, y_hat_train_smote))\n",
    "print(balanced_accuracy_score(y_test_smote, Y_hat_test))\n",
    "# print(balanced_accuracy_score(y_train_smote, y_hat_train))\n",
    "\n",
    "# disp = plot_confusion_matrix(model, X_train_smote, y_train_smote,\n",
    "#                              cmap=plt.cm.Blues)\n",
    "\n",
    "\n",
    "# disp = plot_confusion_matrix(model, X_test_smote, y_test_smote,\n",
    "#                              cmap=plt.cm.Blues)\n",
    "\n",
    "# disp.ax_.set_title('title')\n",
    "\n",
    "# plt.show()"
   ]
  },
  {
   "cell_type": "code",
   "execution_count": null,
   "metadata": {},
   "outputs": [],
   "source": []
  }
 ],
 "metadata": {
  "kernelspec": {
   "display_name": "Python 3",
   "language": "python",
   "name": "python3"
  },
  "language_info": {
   "codemirror_mode": {
    "name": "ipython",
    "version": 3
   },
   "file_extension": ".py",
   "mimetype": "text/x-python",
   "name": "python",
   "nbconvert_exporter": "python",
   "pygments_lexer": "ipython3",
   "version": "3.8.5"
  }
 },
 "nbformat": 4,
 "nbformat_minor": 4
}
